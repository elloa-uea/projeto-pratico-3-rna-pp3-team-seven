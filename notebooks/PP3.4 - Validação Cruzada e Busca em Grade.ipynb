{
  "nbformat": 4,
  "nbformat_minor": 0,
  "metadata": {
    "kernelspec": {
      "display_name": "Python 3",
      "language": "python",
      "name": "python3"
    },
    "language_info": {
      "codemirror_mode": {
        "name": "ipython",
        "version": 3
      },
      "file_extension": ".py",
      "mimetype": "text/x-python",
      "name": "python",
      "nbconvert_exporter": "python",
      "pygments_lexer": "ipython3",
      "version": "3.8.3"
    },
    "colab": {
      "name": "PP3.4 - Validação Cruzada e Busca em Grade.ipynb",
      "provenance": [],
      "collapsed_sections": []
    }
  },
  "cells": [
    {
      "cell_type": "markdown",
      "metadata": {
        "id": "leWlqI9jQuWv"
      },
      "source": [
        "# Redes Neurais Artificiais 2020.1 Projeto Prático 3.4\n",
        "\n",
        "**Disciplina**: Redes Neurais Artificiais 2020.1  \n",
        "**Professora**: Elloá B. Guedes (ebgcosta@uea.edu.br)  \n",
        "**Github**: http://github.com/elloa  \n",
        "        \n",
        "\n",
        "Levando em conta a base de dados **_Forest Cover Type_**, esta terceira parte do Projeto Prático 3 diz respeito à proposição e avaliação de múltiplas redes neurais artificiais do tipo feedforward multilayer perceptron para o problema da classificação multi-classe da cobertura florestal em uma área do Roosevelt National Forest.\n",
        "\n",
        "## Busca em Grade\n",
        "\n",
        "Uma maneira padrão de escolher os parâmetros de um modelo de Machine Learning é por meio de uma busca em grade via força bruta. O algoritmo da busca em grade é dado como segue:\n",
        "\n",
        "1. Escolha a métrica de desempenho que você deseja maximizar  \n",
        "2. Escolha o algoritmo de Machine Learning (exemplo: redes neurais artificiais). Em seguida, defina os parâmetros ou hiperparâmetros deste tipo de modelo sobre os quais você dseja otimizar (número de épocas, taxa de aprendizado, etc.) e construa um array de valores a serem testados para cada parâmetro ou hiperparâmetro.  \n",
        "3. Defina a grade de busca, a qual é dada como o produto cartesiano de cada parâmetro a ser testado. Por exemplo, para os arrays [50, 100, 1000] e [10, 15], tem-se que a grade é [(50,10), (50,15), (100,10), (100,15), (1000,10), (1000,15)].\n",
        "4. Para cada combinação de parâmetros a serem otimizados, utilize o conjunto de treinamento para realizar uma validação cruzada (holdout ou k-fold) e calcule a métrica de avaliação no conjunto de teste (ou conjuntos de teste)\n",
        "5. Escolha a combinação de parâmetros que maximizam a métrica de avaliação. Este é o modelo otimizado.\n",
        "\n",
        "Por que esta abordagem funciona? Porque a busca em grade efetua uma pesquisa extensiva sobre as possíveis combinações de valores para cada um dos parâmetros a serem ajustados. Para cada combinação, ela estima a performance do modelo em dados novos. Por fim, o modelo com melhor métrica de desempenho é escolhido. Tem-se então que este modelo é o que melhor pode vir a generalizar mediante dados nunca antes vistos.\n",
        "\n",
        "## Efetuando a Busca em Grade sobre Hiperparâmetros das Top-6 RNAs\n",
        "\n",
        "Considerando a etapa anterior do projeto prático, foram identificadas pelo menos 6 melhores Redes Neurais para o problema da classificação multi-classe da cobertura florestal no conjunto de dados selecionado. Algumas destas redes possuem atributos categóricos como variáveis preditoras, enquanto outras possuem apenas os atributos numéricos como preditores.\n",
        "\n",
        "A primeira etapa desta segunda parte do projeto consiste em trazer para este notebook estas seis arquiteturas, ressaltando:\n",
        "\n",
        "1. Número de neurônios ocultos por camada  \n",
        "2. 'activation'  \n",
        "3. Utilização ou não de atributos categóricos   \n",
        "4. Desempenho médio +- desvio padrão nos testes anteriores  \n",
        "5. Número de repetições que a equipe conseguiu realizar para verificar os resultados  \n",
        "\n",
        "Elabore uma busca em grade sobre estas arquiteturas que contemple variações nos hiperparâmetros a seguir, conforme documentação de [MLPClassifier](https://scikit-learn.org/stable/modules/generated/sklearn.neural_network.MLPClassifier.html)\n",
        "\n",
        "A. Solver  (Não usar o LBFGS, pois é mais adequado para datasets pequenos)  \n",
        "B. Batch Size  \n",
        "C. Learning Rate Init  \n",
        "D. Paciência (n_iter_no_change)  \n",
        "E. Épocas  \n",
        "\n",
        "Nesta busca em grande, contemple a utilização do objeto [GridSearchCV](https://scikit-learn.org/stable/modules/generated/sklearn.model_selection.GridSearchCV.html)"
      ]
    },
    {
      "cell_type": "markdown",
      "metadata": {
        "id": "L9o3tUcVQuWx"
      },
      "source": [
        "## Validação Cruzada k-fold\n",
        "\n",
        "Na elaboração da busca em grid, vamos avaliar os modelos propostos segundo uma estratégia de validação cruzada ainda não explorada até o momento: a validação cruzada k-fold. Segundo a mesma, o conjunto de dados é particionado em k partes: a cada iteração, separa-se uma das partes para teste e o modelo é treinado com as k-1 partes remanescentes. Valores sugestivos de k na literatura são k = 3, 5 ou 10, pois o custo computacional desta validação dos modelos é alto. A métrica de desempenho é resultante da média dos desempenhos nas k iterações. A figura a seguir ilustra a ideia desta avaliação\n",
        "\n",
        "<img src = \"https://ethen8181.github.io/machine-learning/model_selection/img/kfolds.png\" width=600></img>\n",
        "\n",
        "Considerando a métrica de desempenho F1-Score, considere a validação cruzada 5-fold para aferir os resultados da busca em grande anterior."
      ]
    },
    {
      "cell_type": "code",
      "metadata": {
        "id": "Y2N9SsTJQuWx"
      },
      "source": [
        "import math\n",
        "import numpy as np  \n",
        "import pandas as pd\n",
        "import seaborn as sn\n",
        "import matplotlib.pyplot as plt\n",
        "\n",
        "from datetime import datetime\n",
        "from sklearn.neural_network import MLPClassifier\n",
        "from sklearn.model_selection import train_test_split, KFold, GridSearchCV\n",
        "from sklearn.metrics import confusion_matrix, accuracy_score, precision_score, recall_score, f1_score\n",
        "\n",
        "import pickle\n",
        "from joblib import dump, load\n",
        "\n",
        "# from google.colab import drive\n",
        "# drive.mount('/content/drive')\n",
        "# dados = pd.read_csv('/content/drive/Shared drives/Datasets/covtype.csv', sep=',')\n",
        "\n",
        "dados = pd.read_csv(\"covtype.csv\", sep=',', dtype='uint8')\n",
        "\n",
        "X = np.array(dados.drop(\"Cover_Type\", axis = 1))\n",
        "y = np.array(dados.Cover_Type)"
      ],
      "execution_count": 72,
      "outputs": []
    },
    {
      "cell_type": "code",
      "metadata": {
        "id": "GHg74_Y5QuW1"
      },
      "source": [
        "# Redes neurais da atividade 3.3 (Top 6 melhores redes)\n",
        "parameters = [\n",
        "{\n",
        "'id': 0,\n",
        "'hidden_layer_sizes' : (100,),\n",
        "'activation' : 'relu'\n",
        "},\n",
        "{\n",
        "'id': 1,\n",
        "'hidden_layer_sizes' : (30,),\n",
        "'activation' : 'tanh'\n",
        "},\n",
        "{\n",
        "'id': 2,\n",
        "'hidden_layer_sizes' : (20, 5),\n",
        "'activation' : 'tanh'\n",
        "},\n",
        "{\n",
        "'id': 3,\n",
        "'hidden_layer_sizes' : (16,),\n",
        "'activation' : 'tanh'\n",
        "},\n",
        "{\n",
        "'id': 4,\n",
        "'hidden_layer_sizes' : (10,),\n",
        "'activation' : 'tanh'\n",
        "},\n",
        "{\n",
        "'id': 5,\n",
        "'hidden_layer_sizes' : (25,),\n",
        "'activation' : 'identity'\n",
        "}\n",
        "]"
      ],
      "execution_count": 63,
      "outputs": []
    },
    {
      "cell_type": "code",
      "metadata": {
        "id": "k9gJflmGOFOx"
      },
      "source": [
        "hyperparameters = {\n",
        "    'solver': ['sgd', 'adam'], \n",
        "    'batch_size': [100, 200], \n",
        "    'learning_rate_init': [0.005, 0.001],\n",
        "    'n_iter_no_change': [10, 20],\n",
        "    'max_iter': [80, 100, 150]\n",
        "}"
      ],
      "execution_count": 40,
      "outputs": []
    },
    {
      "cell_type": "code",
      "metadata": {
        "id": "NffVuOJO_sMu"
      },
      "source": [
        "classifiers = [\n",
        "  {'id': 0, 'model': [], 'f1-score': []}, {'id': 1, 'model': [], 'f1-score': []}, \n",
        "  {'id': 2, 'model': [], 'f1-score': []}, {'id': 3, 'model': [], 'f1-score': []}, \n",
        "  {'id': 4, 'model': [], 'f1-score': []}, {'id': 5, 'model': [], 'f1-score': []}\n",
        "]"
      ],
      "execution_count": 42,
      "outputs": []
    },
    {
      "cell_type": "code",
      "metadata": {
        "id": "AxoFJleqQuW4"
      },
      "source": [
        "kf = KFold(n_splits=5)\n",
        "\n",
        "for i in range(len(parameters)):\n",
        "  for train_index, test_index in kf.split(X):\n",
        "    X_train, X_test = X[train_index], X[test_index]\n",
        "    y_train, y_test = y[train_index], y[test_index]\n",
        "\n",
        "    X_train_std = (X_train - np.mean(X_train))/np.std(X_train)\n",
        "    X_test_std  = (X_test  - np.mean(X_train))/np.std(X_train)\n",
        "\n",
        "    mlp = MLPClassifier(hidden_layer_sizes = parameters[i]['hidden_layer_sizes'],\n",
        "                        activation = parameters[i]['activation']\n",
        "                        )\n",
        "\n",
        "    clf = GridSearchCV(mlp, hyperparameters)\n",
        "    clf.fit(X_train_std, y_train)\n",
        "\n",
        "    classifiers[i]['model'].append(clf)\n",
        "\n",
        "    y_pred = clf.predict(X_test_std)\n",
        "    classifiers[i]['f1-score'].append(f1_score(y_test, y_pred, average='macro'))"
      ],
      "execution_count": null,
      "outputs": []
    },
    {
      "cell_type": "markdown",
      "metadata": {
        "id": "fKxtMNsJQuXB"
      },
      "source": [
        "## Identificando a mellhor solução\n",
        "\n",
        "Como resultado da busca em grande com validação cruzada 5-fold, identifique o modelo otimizado com melhor desempenho para o problema. Apresente claramente este modelo, seus parâmetros, hiperparâmetros otimizados e resultados para cada um dos folds avaliados. Esta é a melhor solução identificada em decorrência deste projeto"
      ]
    },
    {
      "cell_type": "code",
      "metadata": {
        "id": "4kY_drY9QuXB"
      },
      "source": [
        "def findTheBestModel():\n",
        "  listBestLocal = []\n",
        "  bestGlobal = 0\n",
        "  for i in range(len(classifiers)):\n",
        "    listBestLocal.append(max(classifiers[i]['f1-score']))\n",
        "  bestGlobal = max(listBestLocal)\n",
        "  \n",
        "  for i in range(len(classifiers)):\n",
        "    indexBestF1_score = -1\n",
        "    indexBestModel = -1\n",
        "    if bestGlobal in classifiers[i]['f1-score']:\n",
        "      indexBestF1_score = classifiers[i]['f1-score'].index(bestGlobal)\n",
        "      indexBestModel = i\n",
        "      break\n",
        "  return indexBestF1_score, indexBestModel\n",
        "\n",
        "def showAllModelInformation(indexBestF1_score, indexBestModel):\n",
        "  bestParameters = parameters[classifiers[indexBestModel]['id']]\n",
        "  bestHyperParameters = classifiers[indexBestModel]['model'][indexBestModel].best_params_\n",
        "\n",
        "  print(\"Parâmetros utilizados:\\n\",bestParameters)\n",
        "  print(\"\\nMelhores hiperparâmetros:\\n\",bestHyperParameters,\"\\n\")\n",
        "\n",
        "  print(\"F1-Score deste modelo:\")\n",
        "  for i in range(len(classifiers[indexBestModel]['f1-score'])):\n",
        "    print(\"{0}-Fold ->\".format(i+1),classifiers[indexBestModel]['f1-score'][i])\n",
        "  \n",
        "  return bestParameters, bestHyperParameters"
      ],
      "execution_count": 50,
      "outputs": []
    },
    {
      "cell_type": "code",
      "metadata": {
        "id": "u5tKubdHQuXF"
      },
      "source": [
        "indexBestF1_score, indexBestModel = findTheBestModel()\n",
        "bestParameters, bestHyperParameters = showAllModelInformation(indexBestF1_score, indexBestModel)"
      ],
      "execution_count": null,
      "outputs": []
    },
    {
      "cell_type": "markdown",
      "metadata": {
        "id": "af2x1L3MQuXH"
      },
      "source": [
        "## Empacotando a solução\n",
        "\n",
        "Suponha que você deve entregar este classificador ao órgão responsável por administrar o Roosevelt National Park. Para tanto, você deve fazer uma preparação do mesmo para utilização neste cenário. Uma vez que já identificou os melhores parâmetros e hiperparâmetros, o passo remanescente consiste em treinar o modelo com estes valores e todos os dados disponíveis, salvando o conjunto de pesos do modelo ao final para entrega ao cliente. Assim, finalize o projeto prático realizando tais passos.\n",
        "\n",
        "1. Consulte a documentação a seguir:\n",
        "https://scikit-learn.org/stable/modules/model_persistence.html  \n",
        "2. Treine o modelo com todos os dados  \n",
        "3. Salve o modelo em disco  \n",
        "4. Construa uma rotina que recupere o modelo em disco  \n",
        "5. Mostre que a rotina é funcional, fazendo previsões com todos os elementos do dataset e exibindo uma matriz de confusão das mesmas"
      ]
    },
    {
      "cell_type": "code",
      "metadata": {
        "id": "2_4aTx91QuXJ"
      },
      "source": [
        "# 1. Consulte a documentação a seguir: https://scikit-learn.org/stable/modules/model_persistence.html  \n",
        "# 2. Treine o modelo com todos os dados  \n",
        "bestClf = MLPClassifier(hidden_layer_sizes = bestParameters['hidden_layer_sizes'],\n",
        "                        activation = bestParameters['activation'],\n",
        "                        batch_size = bestHyperParameters['batch_size'],\n",
        "                        learning_rate_init = bestHyperParameters['learning_rate_init'],\n",
        "                        max_iter = bestHyperParameters['max_iter'],\n",
        "                        n_iter_no_change = bestHyperParameters['n_iter_no_change'],\n",
        "                        solver = bestHyperParameters['solver'])\n",
        "\n",
        "bestClf.fit(X, y)"
      ],
      "execution_count": null,
      "outputs": []
    },
    {
      "cell_type": "code",
      "metadata": {
        "id": "d8PUgFNthDJP"
      },
      "source": [
        "# 3. Salve o modelo em disco  \n",
        "dump(bestClf, 'LuizFabio_LuizFelipe_BestModel.joblib') "
      ],
      "execution_count": null,
      "outputs": []
    },
    {
      "cell_type": "code",
      "metadata": {
        "id": "DosEz81_hLP_"
      },
      "source": [
        "# 4. Construa uma rotina que recupere o modelo em disco  \n",
        "storedClf = load('LuizFabio_LuizFelipe_BestModel.joblib')"
      ],
      "execution_count": 69,
      "outputs": []
    },
    {
      "cell_type": "code",
      "metadata": {
        "id": "B_x-xEd4lNRd"
      },
      "source": [
        "# 5. Mostre que a rotina é funcional, fazendo previsões com todos os elementos do dataset e exibindo uma matriz de confusão das mesmas\n",
        "y_pred = bestClf.predict(X)\n",
        "\n",
        "results = {'real': y, 'previsto': y_pred}\n",
        "results_df = pd.DataFrame.from_dict(results)\n",
        "mc = pd.crosstab(results_df['real'], \n",
        "                 results_df['previsto'], \n",
        "                 rownames=['Real'], \n",
        "                 colnames=['Previsto'])\n",
        "ax = plt.axes()\n",
        "sn.heatmap(mc, annot=True, fmt=\"d\", ax = ax)\n",
        "ax.set_title('Confusion matrix')\n",
        "plt.show()"
      ],
      "execution_count": null,
      "outputs": []
    },
    {
      "cell_type": "code",
      "metadata": {
        "id": "cjPFjt6JoHER"
      },
      "source": [
        ""
      ],
      "execution_count": 47,
      "outputs": []
    }
  ]
}