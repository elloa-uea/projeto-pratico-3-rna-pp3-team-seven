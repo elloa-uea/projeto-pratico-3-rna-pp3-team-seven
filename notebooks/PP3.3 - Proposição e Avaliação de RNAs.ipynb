{
 "cells": [
  {
   "cell_type": "markdown",
   "metadata": {
    "id": "uMDYeOds74ue"
   },
   "source": [
    "## Redes Neurais Artificiais 2020.1\n",
    "\n",
    "**Disciplina**: Redes Neurais Artificiais 2020.1  \n",
    "**Professora**: Elloá B. Guedes (ebgcosta@uea.edu.br)  \n",
    "**Github**: http://github.com/elloa  \n",
    "        \n",
    "\n",
    "Levando em conta a base de dados **_Forest Cover Type_**, esta terceira parte do Projeto Prático 3 diz respeito à proposição e avaliação de múltiplas redes neurais artificiais do tipo feedforward multilayer perceptron para o problema da classificação multi-classe da cobertura florestal em uma área do Roosevelt National Forest.\n",
    "\n",
    "## Testando Redes Neurais sem os Atributos Categórios\n",
    "\n",
    "1. Abra a base de dados em questão\n",
    "2. Elimine todas as colunas relativas aos atributos categóricos\n",
    "3. Armazene o atributo alvo em uma variável y e os atributos preditores em uma variável X\n",
    "4. Efetue uma partição holdout 70/30 com o sklearn, distribuindo os exemplos de maneira aleatória\n",
    "5. Efetue o escalonamento dos atributos\n",
    "\n",
    "### Escalonando os atributos\n",
    "\n",
    "O treinamento de uma rede neural artificial é mais eficiente quando os valores que lhes são fornecidos como entrada são pequenos, pois isto favorece a convergência. Isto é feito escalonando-se todos os atributos para o intervalo [0,1], mas precisa ser feito de maneira cautelosa, para que informações do conjunto de teste não sejam fornecidas no treinamento.\n",
    "\n",
    "Há duas estratégias para tal escalonamento: normalização e padronização. Ambas possuem características particulares, vantagens e limitações, como é possível ver aqui: https://www.analyticsvidhya.com/blog/2020/04/feature-scaling-machine-learning-normalization-standardization/\n",
    "\n",
    "\n",
    "No nosso caso, vamos usar a padronização. Assim, com os atributos preditores do treinamento, isto é, X_train, deve-se subtrair a média e dividir pelo desvio padrão:\n",
    "\n",
    "X_train_std = (X_train - np.mean(X_train))/np.std(X_train)\n",
    "\n",
    "Em seguida, o mesmo deve ser feito com os atributos preditores do conjunto de testes, mas com padronização relativa ao conjunto de treinamento:\n",
    "\n",
    "X_test_std = (X_test - np.mean(X_train))/np.std(X_train)\n",
    "\n",
    "Se todo o conjunto X for utilizado na padronização, a rede neural receberá informações do conjunto de teste por meio da média e variância utilizada para preparar os dados de treinamento, o que não é desejável.\n",
    "\n",
    "\n",
    "### Continuando\n",
    "\n",
    "5. Treine uma rede neural multilayer perceptron para este problema com uma única camada e dez neurônios  \n",
    "    5.1 Utilize a função de ativação ReLU  \n",
    "    5.2 Utilize o solver Adam    \n",
    "    5.3 Imprima o passo a passo do treinamento    \n",
    "    5.4 Utilize o número máximo de épocas igual a 300  \n",
    "6. Com o modelo em questão, após o treinamento, apresente:  \n",
    "    6.1 Matriz de confusão para o conjunto de teste  \n",
    "    6.2 Acurácia  \n",
    "    6.3 F-Score  \n",
    "    6.4 Precisão  \n",
    "    6.5 Revocação  \n",
    "7. Repita o treinamento da mesma rede anterior sem imprimir o passo a passo (verbose False) por 100 vezes  \n",
    "    7.1 Cada uma destas repetições deve ser feita com uma nova partição Holdout  \n",
    "    7.2 Apresente a média e o desvio padrão da acurácia e do F-Score para o conjunto de treino  \n",
    "8. Repita por 100 vezes o treinamento desta mesma rede, mas utilizando o otimizador SGD  \n",
    "    8.1 Apresente a média e o desvio padrão da acurácia e do F-Score para o conjunto de treino  \n",
    "9. Houve influência da escolha do otimizador no desempenho da rede?"
   ]
  },
  {
   "cell_type": "code",
   "execution_count": 1,
   "metadata": {
    "id": "H4WLpMB574uf"
   },
   "outputs": [],
   "source": [
    "import pandas as pd\n",
    "import numpy as np  \n",
    "import math\n",
    "\n",
    "from datetime import datetime\n",
    "\n",
    "from sklearn.neural_network import MLPClassifier\n",
    "from sklearn.model_selection import train_test_split\n",
    "from sklearn.metrics import confusion_matrix\n",
    "from sklearn.metrics import accuracy_score, precision_score, recall_score, f1_score\n",
    "\n",
    "import matplotlib.pyplot as plt\n",
    "import seaborn as sn"
   ]
  },
  {
   "cell_type": "code",
   "execution_count": 2,
   "metadata": {
    "colab": {
     "base_uri": "https://localhost:8080/",
     "height": 218
    },
    "id": "oOfFTJG574uk",
    "outputId": "05fa0501-ab2e-422c-aed4-8bb2e336b015"
   },
   "outputs": [
    {
     "data": {
      "text/html": [
       "<div>\n",
       "<style scoped>\n",
       "    .dataframe tbody tr th:only-of-type {\n",
       "        vertical-align: middle;\n",
       "    }\n",
       "\n",
       "    .dataframe tbody tr th {\n",
       "        vertical-align: top;\n",
       "    }\n",
       "\n",
       "    .dataframe thead th {\n",
       "        text-align: right;\n",
       "    }\n",
       "</style>\n",
       "<table border=\"1\" class=\"dataframe\">\n",
       "  <thead>\n",
       "    <tr style=\"text-align: right;\">\n",
       "      <th></th>\n",
       "      <th>Elevation</th>\n",
       "      <th>Aspect</th>\n",
       "      <th>Slope</th>\n",
       "      <th>Horizontal_Distance_To_Hydrology</th>\n",
       "      <th>Vertical_Distance_To_Hydrology</th>\n",
       "      <th>Horizontal_Distance_To_Roadways</th>\n",
       "      <th>Hillshade_9am</th>\n",
       "      <th>Hillshade_Noon</th>\n",
       "      <th>Hillshade_3pm</th>\n",
       "      <th>Horizontal_Distance_To_Fire_Points</th>\n",
       "      <th>...</th>\n",
       "      <th>Soil_Type32</th>\n",
       "      <th>Soil_Type33</th>\n",
       "      <th>Soil_Type34</th>\n",
       "      <th>Soil_Type35</th>\n",
       "      <th>Soil_Type36</th>\n",
       "      <th>Soil_Type37</th>\n",
       "      <th>Soil_Type38</th>\n",
       "      <th>Soil_Type39</th>\n",
       "      <th>Soil_Type40</th>\n",
       "      <th>Cover_Type</th>\n",
       "    </tr>\n",
       "  </thead>\n",
       "  <tbody>\n",
       "    <tr>\n",
       "      <th>0</th>\n",
       "      <td>36</td>\n",
       "      <td>51</td>\n",
       "      <td>3</td>\n",
       "      <td>2</td>\n",
       "      <td>0</td>\n",
       "      <td>254</td>\n",
       "      <td>221</td>\n",
       "      <td>232</td>\n",
       "      <td>148</td>\n",
       "      <td>135</td>\n",
       "      <td>...</td>\n",
       "      <td>0</td>\n",
       "      <td>0</td>\n",
       "      <td>0</td>\n",
       "      <td>0</td>\n",
       "      <td>0</td>\n",
       "      <td>0</td>\n",
       "      <td>0</td>\n",
       "      <td>0</td>\n",
       "      <td>0</td>\n",
       "      <td>5</td>\n",
       "    </tr>\n",
       "    <tr>\n",
       "      <th>1</th>\n",
       "      <td>30</td>\n",
       "      <td>56</td>\n",
       "      <td>2</td>\n",
       "      <td>212</td>\n",
       "      <td>250</td>\n",
       "      <td>134</td>\n",
       "      <td>220</td>\n",
       "      <td>235</td>\n",
       "      <td>151</td>\n",
       "      <td>81</td>\n",
       "      <td>...</td>\n",
       "      <td>0</td>\n",
       "      <td>0</td>\n",
       "      <td>0</td>\n",
       "      <td>0</td>\n",
       "      <td>0</td>\n",
       "      <td>0</td>\n",
       "      <td>0</td>\n",
       "      <td>0</td>\n",
       "      <td>0</td>\n",
       "      <td>5</td>\n",
       "    </tr>\n",
       "    <tr>\n",
       "      <th>2</th>\n",
       "      <td>244</td>\n",
       "      <td>139</td>\n",
       "      <td>9</td>\n",
       "      <td>12</td>\n",
       "      <td>65</td>\n",
       "      <td>108</td>\n",
       "      <td>234</td>\n",
       "      <td>238</td>\n",
       "      <td>135</td>\n",
       "      <td>233</td>\n",
       "      <td>...</td>\n",
       "      <td>0</td>\n",
       "      <td>0</td>\n",
       "      <td>0</td>\n",
       "      <td>0</td>\n",
       "      <td>0</td>\n",
       "      <td>0</td>\n",
       "      <td>0</td>\n",
       "      <td>0</td>\n",
       "      <td>0</td>\n",
       "      <td>2</td>\n",
       "    </tr>\n",
       "    <tr>\n",
       "      <th>3</th>\n",
       "      <td>225</td>\n",
       "      <td>155</td>\n",
       "      <td>18</td>\n",
       "      <td>242</td>\n",
       "      <td>118</td>\n",
       "      <td>18</td>\n",
       "      <td>238</td>\n",
       "      <td>238</td>\n",
       "      <td>122</td>\n",
       "      <td>67</td>\n",
       "      <td>...</td>\n",
       "      <td>0</td>\n",
       "      <td>0</td>\n",
       "      <td>0</td>\n",
       "      <td>0</td>\n",
       "      <td>0</td>\n",
       "      <td>0</td>\n",
       "      <td>0</td>\n",
       "      <td>0</td>\n",
       "      <td>0</td>\n",
       "      <td>2</td>\n",
       "    </tr>\n",
       "    <tr>\n",
       "      <th>4</th>\n",
       "      <td>35</td>\n",
       "      <td>45</td>\n",
       "      <td>2</td>\n",
       "      <td>153</td>\n",
       "      <td>255</td>\n",
       "      <td>135</td>\n",
       "      <td>220</td>\n",
       "      <td>234</td>\n",
       "      <td>150</td>\n",
       "      <td>28</td>\n",
       "      <td>...</td>\n",
       "      <td>0</td>\n",
       "      <td>0</td>\n",
       "      <td>0</td>\n",
       "      <td>0</td>\n",
       "      <td>0</td>\n",
       "      <td>0</td>\n",
       "      <td>0</td>\n",
       "      <td>0</td>\n",
       "      <td>0</td>\n",
       "      <td>5</td>\n",
       "    </tr>\n",
       "  </tbody>\n",
       "</table>\n",
       "<p>5 rows × 55 columns</p>\n",
       "</div>"
      ],
      "text/plain": [
       "   Elevation  Aspect  Slope  Horizontal_Distance_To_Hydrology  \\\n",
       "0         36      51      3                                 2   \n",
       "1         30      56      2                               212   \n",
       "2        244     139      9                                12   \n",
       "3        225     155     18                               242   \n",
       "4         35      45      2                               153   \n",
       "\n",
       "   Vertical_Distance_To_Hydrology  Horizontal_Distance_To_Roadways  \\\n",
       "0                               0                              254   \n",
       "1                             250                              134   \n",
       "2                              65                              108   \n",
       "3                             118                               18   \n",
       "4                             255                              135   \n",
       "\n",
       "   Hillshade_9am  Hillshade_Noon  Hillshade_3pm  \\\n",
       "0            221             232            148   \n",
       "1            220             235            151   \n",
       "2            234             238            135   \n",
       "3            238             238            122   \n",
       "4            220             234            150   \n",
       "\n",
       "   Horizontal_Distance_To_Fire_Points  ...  Soil_Type32  Soil_Type33  \\\n",
       "0                                 135  ...            0            0   \n",
       "1                                  81  ...            0            0   \n",
       "2                                 233  ...            0            0   \n",
       "3                                  67  ...            0            0   \n",
       "4                                  28  ...            0            0   \n",
       "\n",
       "   Soil_Type34  Soil_Type35  Soil_Type36  Soil_Type37  Soil_Type38  \\\n",
       "0            0            0            0            0            0   \n",
       "1            0            0            0            0            0   \n",
       "2            0            0            0            0            0   \n",
       "3            0            0            0            0            0   \n",
       "4            0            0            0            0            0   \n",
       "\n",
       "   Soil_Type39  Soil_Type40  Cover_Type  \n",
       "0            0            0           5  \n",
       "1            0            0           5  \n",
       "2            0            0           2  \n",
       "3            0            0           2  \n",
       "4            0            0           5  \n",
       "\n",
       "[5 rows x 55 columns]"
      ]
     },
     "execution_count": 2,
     "metadata": {},
     "output_type": "execute_result"
    }
   ],
   "source": [
    "# Abra a base de dados em questão\n",
    "dados = pd.read_csv(\"covtype.csv\", sep=',', dtype='uint8')\n",
    "dados.head()"
   ]
  },
  {
   "cell_type": "code",
   "execution_count": 53,
   "metadata": {
    "id": "OTxHv8Pn74up"
   },
   "outputs": [],
   "source": [
    "# Elimine todas as colunas relativas aos atributos categóricos\n",
    "for i in range(1, 41):\n",
    "    dados = dados.drop(columns=['Soil_Type'+str(i)], axis=1)\n",
    "for i in range(1, 5):\n",
    "    dados = dados.drop(columns=['Wilderness_Area'+str(i)], axis=1)"
   ]
  },
  {
   "cell_type": "code",
   "execution_count": null,
   "metadata": {
    "id": "NwikS9K174ur"
   },
   "outputs": [],
   "source": []
  },
  {
   "cell_type": "code",
   "execution_count": 3,
   "metadata": {
    "id": "oMT3DZsU74uv"
   },
   "outputs": [],
   "source": [
    "# Armazene o atributo alvo em uma variável y e os atributos preditores em uma variável X\n",
    "x = dados.drop(\"Cover_Type\", axis = 1)\n",
    "y = dados.Cover_Type"
   ]
  },
  {
   "cell_type": "code",
   "execution_count": 4,
   "metadata": {
    "id": "P_N338XW74ux"
   },
   "outputs": [],
   "source": [
    "# Efetue uma partição holdout 70/30 com o sklearn, distribuindo os exemplos de maneira aleatória\n",
    "x_train, x_test, y_train, y_test = train_test_split(x, y, test_size=0.3, train_size=0.7)"
   ]
  },
  {
   "cell_type": "code",
   "execution_count": 5,
   "metadata": {
    "id": "oJZFUMPU74uz"
   },
   "outputs": [],
   "source": [
    "# Efetue o escalonamento dos atributos\n",
    "x_train_std = (x_train - np.mean(x_train))/np.std(x_train)\n",
    "x_test_std  = (x_test  - np.mean(x_train))/np.std(x_train)"
   ]
  },
  {
   "cell_type": "code",
   "execution_count": null,
   "metadata": {
    "colab": {
     "base_uri": "https://localhost:8080/",
     "height": 918
    },
    "id": "YbldZkKi74u5",
    "outputId": "dd77e841-fead-4c1e-e6c0-de55951ad38b",
    "scrolled": true
   },
   "outputs": [
    {
     "name": "stdout",
     "output_type": "stream",
     "text": [
      "Iteration 1, loss = 1.20352529\n",
      "Iteration 2, loss = 1.14787939\n",
      "Iteration 3, loss = 1.14323453\n",
      "Iteration 4, loss = 1.14125362\n",
      "Iteration 5, loss = 1.14018363\n",
      "Iteration 6, loss = 1.13934196\n",
      "Iteration 7, loss = 1.13855799\n",
      "Iteration 8, loss = 1.13784278\n",
      "Iteration 9, loss = 1.13728762\n",
      "Iteration 10, loss = 1.13678365\n",
      "Iteration 11, loss = 1.13637491\n",
      "Iteration 12, loss = 1.13574795\n",
      "Iteration 13, loss = 1.13504546\n",
      "Iteration 14, loss = 1.13429920\n",
      "Iteration 15, loss = 1.13332376\n",
      "Iteration 16, loss = 1.13238210\n",
      "Iteration 17, loss = 1.13160569\n",
      "Iteration 18, loss = 1.13101649\n",
      "Iteration 19, loss = 1.13055668\n",
      "Iteration 20, loss = 1.13009165\n",
      "Iteration 21, loss = 1.12980909\n",
      "Iteration 22, loss = 1.12955373\n",
      "Iteration 23, loss = 1.12939143\n",
      "Iteration 24, loss = 1.12926527\n",
      "Iteration 25, loss = 1.12909135\n",
      "Iteration 26, loss = 1.12899590\n",
      "Iteration 27, loss = 1.12882977\n",
      "Iteration 28, loss = 1.12873202\n",
      "Iteration 29, loss = 1.12855701\n",
      "Iteration 30, loss = 1.12857862\n",
      "Iteration 31, loss = 1.12846395\n",
      "Iteration 32, loss = 1.12844477\n",
      "Iteration 33, loss = 1.12831873\n",
      "Iteration 34, loss = 1.12826201\n",
      "Iteration 35, loss = 1.12826759\n",
      "Iteration 36, loss = 1.12816488\n",
      "Iteration 37, loss = 1.12813567\n",
      "Iteration 38, loss = 1.12814074\n",
      "Iteration 39, loss = 1.12804100\n",
      "Iteration 40, loss = 1.12802231\n",
      "Iteration 41, loss = 1.12800627\n",
      "Iteration 42, loss = 1.12801605\n",
      "Iteration 43, loss = 1.12792593\n",
      "Iteration 44, loss = 1.12794739\n",
      "Training loss did not improve more than tol=0.000100 for 10 consecutive epochs. Stopping.\n"
     ]
    },
    {
     "data": {
      "text/plain": [
       "MLPClassifier(activation='relu', alpha=0.0001, batch_size='auto', beta_1=0.9,\n",
       "              beta_2=0.999, early_stopping=False, epsilon=1e-08,\n",
       "              hidden_layer_sizes=10, learning_rate='constant',\n",
       "              learning_rate_init=0.001, max_fun=15000, max_iter=300,\n",
       "              momentum=0.9, n_iter_no_change=10, nesterovs_momentum=True,\n",
       "              power_t=0.5, random_state=None, shuffle=True, solver='adam',\n",
       "              tol=0.0001, validation_fraction=0.1, verbose=True,\n",
       "              warm_start=False)"
      ]
     },
     "execution_count": 28,
     "metadata": {
      "tags": []
     },
     "output_type": "execute_result"
    }
   ],
   "source": [
    "# 5. Treine uma rede neural multilayer perceptron para este problema com uma única camada e dez neurônios  \n",
    "#     5.1 Utilize a função de ativação ReLU  \n",
    "#     5.2 Utilize o solver Adam    \n",
    "#     5.3 Imprima o passo a passo do treinamento    \n",
    "#     5.4 Utilize o número máximo de épocas igual a 300  \n",
    "clf = MLPClassifier(hidden_layer_sizes=(10), \n",
    "                    activation='relu', \n",
    "                    solver='adam', \n",
    "                    max_iter=300, \n",
    "                    verbose=True)\n",
    "\n",
    "clf.fit(x_train_std, y_train)"
   ]
  },
  {
   "cell_type": "code",
   "execution_count": null,
   "metadata": {
    "colab": {
     "base_uri": "https://localhost:8080/",
     "height": 435
    },
    "id": "5y6LiT_874u_",
    "outputId": "1445044b-bac7-4da0-80ab-967b34729d2b",
    "scrolled": false
   },
   "outputs": [
    {
     "name": "stdout",
     "output_type": "stream",
     "text": [
      "\n",
      "\n",
      "Acurácia: 0.5006253442261795\n",
      "F1-score: 0.1518524237893959\n",
      "Precisão: 0.2247295956017902\n",
      "Revocação: 0.16382572285201327\n"
     ]
    },
    {
     "name": "stderr",
     "output_type": "stream",
     "text": [
      "/usr/local/lib/python3.6/dist-packages/sklearn/metrics/_classification.py:1272: UndefinedMetricWarning: Precision is ill-defined and being set to 0.0 in labels with no predicted samples. Use `zero_division` parameter to control this behavior.\n",
      "  _warn_prf(average, modifier, msg_start, len(result))\n"
     ]
    },
    {
     "data": {
      "image/png": "[encoded data removed]",
      "text/plain": [
       "<Figure size 432x288 with 2 Axes>"
      ]
     },
     "metadata": {
      "needs_background": "light",
      "tags": []
     },
     "output_type": "display_data"
    }
   ],
   "source": [
    "# 6. Com o modelo em questão, após o treinamento, apresente:  \n",
    "#     6.1 Matriz de confusão para o conjunto de teste  \n",
    "#     6.2 Acurácia  \n",
    "#     6.3 F-Score  \n",
    "#     6.4 Precisão  \n",
    "#     6.5 Revocação  \n",
    "\n",
    "y_pred = clf.predict(x_test_std)\n",
    "#mc = confusion_matrix(y_test, y_pred)\n",
    "results = {'real': y_test, 'previsto': y_pred}\n",
    "results_df = pd.DataFrame.from_dict(results)\n",
    "mc = pd.crosstab(results_df['real'], results_df['previsto'], rownames=['Real'], colnames=['Previsto'])\n",
    "sn.heatmap(mc, annot=True, fmt=\"d\")\n",
    "\n",
    "print('\\n\\nAcurácia:',accuracy_score(y_test, y_pred))\n",
    "print('F1-score:',f1_score(y_test, y_pred, average='macro'))\n",
    "print('Precisão:',precision_score(y_test, y_pred, average='macro'))\n",
    "print('Revocação:',recall_score(y_test, y_pred, average='macro'))"
   ]
  },
  {
   "cell_type": "code",
   "execution_count": null,
   "metadata": {
    "colab": {
     "base_uri": "https://localhost:8080/",
     "height": 139
    },
    "id": "76AnOQEJ74vB",
    "outputId": "64ec2284-2705-47c7-a477-56771ed52991",
    "scrolled": true
   },
   "outputs": [
    {
     "name": "stderr",
     "output_type": "stream",
     "text": [
      "/usr/local/lib/python3.6/dist-packages/sklearn/neural_network/_multilayer_perceptron.py:573: UserWarning: Training interrupted by user.\n",
      "  warnings.warn(\"Training interrupted by user.\")\n",
      "/usr/local/lib/python3.6/dist-packages/sklearn/neural_network/_multilayer_perceptron.py:573: UserWarning: Training interrupted by user.\n",
      "  warnings.warn(\"Training interrupted by user.\")\n",
      "/usr/local/lib/python3.6/dist-packages/sklearn/neural_network/_multilayer_perceptron.py:573: UserWarning: Training interrupted by user.\n",
      "  warnings.warn(\"Training interrupted by user.\")\n"
     ]
    }
   ],
   "source": [
    "# 7. Repita o treinamento da mesma rede anterior sem imprimir o passo a passo (verbose False) por 100 vezes  \n",
    "#     7.1 Cada uma destas repetições deve ser feita com uma nova partição Holdout  \n",
    "#     7.2 Apresente a média e o desvio padrão da acurácia e do F-Score para o conjunto de treino\n",
    "clf.verbose = False\n",
    "\n",
    "accuracy_array = []\n",
    "f1_score_array = []\n",
    "\n",
    "start_time_adam = datetime.now().strftime(\"%H:%M:%S\")\n",
    "\n",
    "for i in range(15):\n",
    "    X_train, X_test, y_train, y_test = train_test_split(x, y, test_size=0.3)\n",
    "\n",
    "    X_train_std = (X_train - np.mean(X_train))/np.std(X_train)\n",
    "    X_test_std  = (X_test  - np.mean(X_train))/np.std(X_train)\n",
    "    \n",
    "    clf.fit(X_train_std, y_train)\n",
    "\n",
    "    y_pred = clf.predict(X_test_std)\n",
    "\n",
    "    accuracy_array.append(accuracy_score(y_test, y_pred))\n",
    "    f1_score_array.append(f1_score(y_test, y_pred, average='macro'))\n",
    "\n",
    "end_time_adam = datetime.now().strftime(\"%H:%M:%S\")"
   ]
  },
  {
   "cell_type": "code",
   "execution_count": null,
   "metadata": {
    "colab": {
     "base_uri": "https://localhost:8080/",
     "height": 85
    },
    "id": "hG0XneoW74vD",
    "outputId": "aa3c0c31-1cbc-4de8-d4f5-523eace64c6e"
   },
   "outputs": [
    {
     "name": "stdout",
     "output_type": "stream",
     "text": [
      "Otimizador 'Adam' | Média da Acurácia: 0.49860779634049324\n",
      "Otimizador 'Adam' | Desvio Padrão da Acurácia: 0.001444648658448551\n",
      "Otimizador 'Adam' | Média do F-Score: 0.15594179087241603\n",
      "Otimizador 'Adam' | Desvio Padrão do F-Score: 0.003035780572220513\n"
     ]
    }
   ],
   "source": [
    "print(\"Otimizador 'Adam' | Média da Acurácia:\", np.mean(accuracy_array))\n",
    "print(\"Otimizador 'Adam' | Desvio Padrão da Acurácia:\", np.std(accuracy_array))\n",
    "\n",
    "print(\"Otimizador 'Adam' | Média do F-Score:\", np.mean(f1_score_array))\n",
    "print(\"Otimizador 'Adam' | Desvio Padrão do F-Score:\", np.std(f1_score_array))"
   ]
  },
  {
   "cell_type": "code",
   "execution_count": null,
   "metadata": {
    "id": "MxdSnnvu74vF",
    "scrolled": true
   },
   "outputs": [],
   "source": [
    "# 8. Repita por 100 vezes o treinamento desta mesma rede, mas utilizando o otimizador SGD  \n",
    "#     8.1 Apresente a média e o desvio padrão da acurácia e do F-Score para o conjunto de treino  \n",
    "clf.solver = 'sgd'\n",
    "\n",
    "accuracy_array = []\n",
    "f1_score_array = []\n",
    "\n",
    "start_time_SGD = datetime.now().strftime(\"%H:%M:%S\")\n",
    "\n",
    "for i in range(15):\n",
    "    X_train, X_test, y_train, y_test = train_test_split(x, y, test_size=0.3)\n",
    "\n",
    "    X_train_std = (X_train - np.mean(X_train))/np.std(X_train)\n",
    "    X_test_std  = (X_test  - np.mean(X_train))/np.std(X_train)\n",
    "    \n",
    "    clf.fit(X_train_std, y_train)\n",
    "\n",
    "    y_pred = clf.predict(X_test_std)\n",
    "\n",
    "    accuracy_array.append(accuracy_score(y_test, y_pred))\n",
    "    f1_score_array.append(f1_score(y_test, y_pred, average='macro'))\n",
    "\n",
    "end_time_SGD = datetime.now().strftime(\"%H:%M:%S\")"
   ]
  },
  {
   "cell_type": "code",
   "execution_count": null,
   "metadata": {
    "colab": {
     "base_uri": "https://localhost:8080/",
     "height": 85
    },
    "id": "beyrjVSQ74vI",
    "outputId": "551df7af-5563-4316-ea22-8ec559a76162"
   },
   "outputs": [
    {
     "name": "stdout",
     "output_type": "stream",
     "text": [
      "Otimizador 'SGD' | Média da Acurácia: 0.4965581206780491\n",
      "Otimizador 'SGD' | Desvio Padrão da Acurácia: 0.002094415566786464\n",
      "Otimizador 'SGD' | Média do F-Score: 0.15121730347697307\n",
      "Otimizador 'SGD' | Desvio Padrão do F-Score: 0.0032061293658015985\n"
     ]
    }
   ],
   "source": [
    "print(\"Otimizador 'SGD' | Média da Acurácia:\", np.mean(accuracy_array))\n",
    "print(\"Otimizador 'SGD' | Desvio Padrão da Acurácia:\", np.std(accuracy_array))\n",
    "\n",
    "print(\"Otimizador 'SGD' | Média do F-Score:\", np.mean(f1_score_array))\n",
    "print(\"Otimizador 'SGD' | Desvio Padrão do F-Score:\", np.std(f1_score_array))"
   ]
  },
  {
   "cell_type": "code",
   "execution_count": null,
   "metadata": {
    "colab": {
     "base_uri": "https://localhost:8080/",
     "height": 51
    },
    "id": "QlzgrJqq74vL",
    "outputId": "2169a5ed-4b22-4dfc-82e9-bd095d507cb4"
   },
   "outputs": [
    {
     "name": "stdout",
     "output_type": "stream",
     "text": [
      "Otimizador 'Adam' durou  11.066666666666666  minutos\n",
      "Otimizador 'SGD'  durou  14.05  minutos\n"
     ]
    }
   ],
   "source": [
    "# 9. Houve influência da escolha do otimizador no desempenho da rede?\n",
    "\n",
    "# Resposta: Houve uma diferença bem suave no valor da acuracia e do F-score, \n",
    "# sendo superior no otimizador 'Adam' (algumas casas decimais de diferença). \n",
    "# O tempo de execução foi significativo: \n",
    "# -----> Otimizador 'Adam' durou  67.05  minutos\n",
    "# -----> Otimizador 'SGD'  durou  79.05  minutos\n",
    "\n",
    "duration_adam = (datetime.strptime(end_time_adam, '%H:%M:%S') - datetime.strptime(start_time_adam, '%H:%M:%S'))\n",
    "duration_adam = duration_adam.seconds/60\n",
    "duration_SGD = (datetime.strptime(end_time_SGD, '%H:%M:%S') - datetime.strptime(start_time_SGD, '%H:%M:%S'))\n",
    "duration_SGD = duration_SGD.seconds/60\n",
    "\n",
    "print(\"Otimizador 'Adam' durou \", duration_adam, \" minutos\")\n",
    "print(\"Otimizador 'SGD'  durou \", duration_SGD, \" minutos\")"
   ]
  },
  {
   "cell_type": "markdown",
   "metadata": {
    "id": "SLZopOP874vQ"
   },
   "source": [
    "## Discussão\n",
    "\n",
    "Nos passos anteriores, você avaliou o desempenho de uma única rede neural que contém os seguintes parâmetros: uma única camada oculta com 10 neurônios e função de ativação ReLU. O otimizador utilizado, quer seja SGD ou ADAM, trata-se do algoritmo para aproximar o gradiente do erro. Neste sentido, a escolha do otimizador é um hiperparâmetro, pois diz respeito a como a rede neural definida previamente atuará \"em tempo de execução\"  durante o processo de treinamento. Também são hiperparâmetros a quantidade de épocas, a taxa de aprendizado inicial, dentre outros.\n",
    "\n",
    "Cabe alientar também que você efetuou o treinamento desta rede por 100 vezes e apresentou os resultados em termos de média +- desvio padrão. Lembre-se que em uma rede neural há a inicialização aleatória de pesos e, em consequência, o desempenho delas está sujeito à uma flutuação estocástica. A execução destas múltiplas vezes faz com que eliminemos algum viés introduzido por uma boa ou má \"sorte\" na escolha de pesos no caso de uma única execução.\n",
    "\n",
    "Você também aprendeu uma estratégia para escalonar os atributos para uma melhor convergência da rede. Utilize-a em todos os treinamentos e testes propostos a seguir.\n",
    "\n",
    "## Propondo Novas Arquiteturas\n",
    "\n",
    "Variando  os parâmetros (uma ou duas camadas ocultas, com diferente números de neurônios em cada uma delas e a função de ativação) e o hiperparâmetros solver (Adam ou SGD) e o número de épocas (100,150 e 200), atenda ao que se pede:\n",
    "\n",
    "1. Proponha 10 arquiteturas distintas de RNAs para o problema em questão, à sua escolha\n",
    "2. Avalie cada uma das arquiteturas perante todos os hiperparâmetros apresentados por 100 vezes\n",
    "3. Como resultado da avaliação, apresente:  \n",
    "    3.1 Top-3 melhores redes no tocante à F-Score e Acurácia  \n",
    "    3.2 Repetição em que houve o melhor desempenho de cada uma dessas redes: ilustre tp, tf, fp e fn  "
   ]
  },
  {
   "cell_type": "code",
   "execution_count": null,
   "metadata": {
    "colab": {
     "base_uri": "https://localhost:8080/",
     "height": 1000
    },
    "id": "LcWTeFPIXmAG",
    "outputId": "1a21d12d-c0c9-4516-d49d-cc50f63d9634"
   },
   "outputs": [
    {
     "name": "stdout",
     "output_type": "stream",
     "text": [
      "\n",
      "\n",
      "--> Configuração 0 \n",
      "Otimizador:  sgd \n",
      "Épocas: 100 \n",
      "Camada oculta: (20,) \n",
      "Função de ativação: relu\n",
      "\n",
      "\n",
      "--> Configuração 1 \n",
      "Otimizador:  sgd \n",
      "Épocas: 100 \n",
      "Camada oculta: (10, 10) \n",
      "Função de ativação: relu\n",
      "\n",
      "\n",
      "--> Configuração 2 \n",
      "Otimizador:  sgd \n",
      "Épocas: 150 \n",
      "Camada oculta: (100,) \n",
      "Função de ativação: relu\n",
      "\n",
      "\n",
      "--> Configuração 3 \n",
      "Otimizador:  sgd \n",
      "Épocas: 150 \n",
      "Camada oculta: (5, 5) \n",
      "Função de ativação: relu\n",
      "\n",
      "\n",
      "--> Configuração 4 \n",
      "Otimizador:  sgd \n",
      "Épocas: 200 \n",
      "Camada oculta: (7, 10) \n",
      "Função de ativação: relu\n",
      "\n",
      "\n",
      "--> Configuração 5 \n",
      "Otimizador:  sgd \n",
      "Épocas: 200 \n",
      "Camada oculta: (10, 5) \n",
      "Função de ativação: relu\n",
      "\n",
      "\n",
      "--> Configuração 6 \n",
      "Otimizador:  adam \n",
      "Épocas: 100 \n",
      "Camada oculta: (30,) \n",
      "Função de ativação: tanh\n",
      "\n",
      "\n",
      "--> Configuração 7 \n",
      "Otimizador:  adam \n",
      "Épocas: 150 \n",
      "Camada oculta: (25, 3) \n",
      "Função de ativação: tanh\n",
      "\n",
      "\n",
      "--> Configuração 8 \n",
      "Otimizador:  adam \n",
      "Épocas: 200 \n",
      "Camada oculta: (5, 10) \n",
      "Função de ativação: tanh\n",
      "\n",
      "\n",
      "--> Configuração 9 \n",
      "Otimizador:  adam \n",
      "Épocas: 100 \n",
      "Camada oculta: (20, 5) \n",
      "Função de ativação: tanh\n"
     ]
    }
   ],
   "source": [
    "# 1. Proponha 10 arquiteturas distintas de RNAs para o problema em questão, à sua escolha\n",
    "def show_architectures(architecture):\n",
    "  for i in range(len(architecture)):\n",
    "    print('\\n\\n--> Configuração',i,\n",
    "          '\\nOtimizador: ',architecture[i][0],\n",
    "          '\\nÉpocas:',architecture[i][1],\n",
    "          '\\nCamada oculta:',architecture[i][2],\n",
    "          '\\nFunção de ativação:',architecture[i][3],\n",
    "          )\n",
    "\n",
    "config = [  ['sgd',  100,(20,),   'relu'],\n",
    "            ['sgd',  100,(10,10), 'relu'],\n",
    "            ['sgd',  150,(100,),  'relu'],\n",
    "            ['sgd',  150,(5,5), 'relu'],\n",
    "            ['sgd',  200,(7,10),   'relu'],\n",
    "            ['sgd',  200,(10,5), 'relu'],\n",
    "            ['adam', 100,(30,),   'tanh'],\n",
    "            ['adam', 150,(25,3), 'tanh'],\n",
    "            ['adam', 200,(5,10), 'tanh'],\n",
    "            ['adam', 100,(20,5), 'tanh']]\n",
    "\n",
    "show_architectures(config)"
   ]
  },
  {
   "cell_type": "code",
   "execution_count": 61,
   "metadata": {
    "id": "EM9BT7tzvT_j"
   },
   "outputs": [],
   "source": [
    "def architecture_training(architecture):\n",
    "  architecture_accuracy_array = []\n",
    "  architecture_f1_score_array = []\n",
    "  architecture_y_pred_array = []\n",
    "  architecture_y_real_array = []\n",
    "\n",
    "  for i in range(len(architecture)):\n",
    "      clf = MLPClassifier(hidden_layer_sizes=architecture[i][2], activation=architecture[i][3], solver=architecture[i][0], max_iter=architecture[i][1], verbose=False ,random_state=1)\n",
    "      \n",
    "      for j in range(15):     \n",
    "          X_train, X_test, y_train, y_test = train_test_split(x, y, test_size=0.3)\n",
    "          X_train_std = (X_train - np.mean(X_train))/np.std(X_train)\n",
    "          clf.fit(X_train_std, y_train)\n",
    "          \n",
    "      X_test_std  = (X_test  - np.mean(X_train))/np.std(X_train)\n",
    "      y_pred = clf.predict(X_test_std)\n",
    "      \n",
    "      architecture_y_pred_array.append(y_pred)\n",
    "      architecture_y_real_array.append(y_test)\n",
    "      \n",
    "      architecture_accuracy_array.append(accuracy_score(y_test, y_pred))\n",
    "      architecture_f1_score_array.append(f1_score(y_test, y_pred, average='macro'))\n",
    "        \n",
    "#       print('\\n\\n----- Configuração -----',\n",
    "#           '\\n-- Omtimizador :', architecture[i][0],\n",
    "#           '\\n-- Épocas :', architecture[i][1],\n",
    "#           '\\n-- Camadas/neuronios :', architecture[i][2],\n",
    "#           '\\n-- Função de ativação :', architecture[i][3])\n",
    "#       print('-> Acurácia: ', accuracy_score(new_y_test, new_y_pred))\n",
    "#       print('-> F1-score: ', f1_score(new_y_test, new_y_pred, average='macro'),'\\n')\n",
    "\n",
    "  return architecture_accuracy_array, architecture_f1_score_array, architecture_y_pred_array, architecture_y_real_array\n",
    "\n",
    "def plot_top3_configs(plot_accuracy_array_plot, plot_f1_score_array_plot, plot_y_pred_array_plot, plot_y_real_array_plot, plot_config):      \n",
    "  top3 = sorted(zip(plot_accuracy_array_plot, plot_f1_score_array_plot), reverse=True)[:3]\n",
    "\n",
    "  _1 = plot_accuracy_array_plot.index(top3[0][0])\n",
    "  _2 = plot_accuracy_array_plot.index(top3[1][0])\n",
    "  _3 = plot_accuracy_array_plot.index(top3[2][0])\n",
    "\n",
    "  index_top3 = [_1,_2,_3]\n",
    "  cont = 1\n",
    "  for i in index_top3:\n",
    "      results_df = pd.DataFrame.from_dict({'real': plot_y_real_array_plot[i], 'previsto': plot_y_pred_array_plot[i]})\n",
    "      mc = pd.crosstab(results_df['real'], results_df['previsto'], rownames=['Real'], colnames=['Previsto'])\n",
    "      sn.heatmap(mc, annot=True, fmt=\"d\")\n",
    "      plt.title('Configuração TOP: ' +str(cont)+\n",
    "                '\\nHiperparâmetros: '+str(plot_config[i])+\n",
    "                '\\nAcurácia: '+str(plot_accuracy_array_plot[i])+\n",
    "                '\\nF-score: ' +str(plot_f1_score_array_plot[i]))\n",
    "      plt.show()\n",
    "      cont+=1"
   ]
  },
  {
   "cell_type": "code",
   "execution_count": null,
   "metadata": {
    "colab": {
     "base_uri": "https://localhost:8080/",
     "height": 1000
    },
    "id": "yL98xZio74vQ",
    "outputId": "f1b309a8-d0cf-4904-ccc4-067de198e6c4"
   },
   "outputs": [
    {
     "name": "stderr",
     "output_type": "stream",
     "text": [
      "/usr/local/lib/python3.6/dist-packages/sklearn/neural_network/_multilayer_perceptron.py:571: ConvergenceWarning: Stochastic Optimizer: Maximum iterations (100) reached and the optimization hasn't converged yet.\n",
      "  % self.max_iter, ConvergenceWarning)\n",
      "/usr/local/lib/python3.6/dist-packages/sklearn/neural_network/_multilayer_perceptron.py:571: ConvergenceWarning: Stochastic Optimizer: Maximum iterations (100) reached and the optimization hasn't converged yet.\n",
      "  % self.max_iter, ConvergenceWarning)\n",
      "/usr/local/lib/python3.6/dist-packages/sklearn/neural_network/_multilayer_perceptron.py:571: ConvergenceWarning: Stochastic Optimizer: Maximum iterations (100) reached and the optimization hasn't converged yet.\n",
      "  % self.max_iter, ConvergenceWarning)\n",
      "/usr/local/lib/python3.6/dist-packages/sklearn/neural_network/_multilayer_perceptron.py:571: ConvergenceWarning: Stochastic Optimizer: Maximum iterations (100) reached and the optimization hasn't converged yet.\n",
      "  % self.max_iter, ConvergenceWarning)\n",
      "/usr/local/lib/python3.6/dist-packages/sklearn/neural_network/_multilayer_perceptron.py:571: ConvergenceWarning: Stochastic Optimizer: Maximum iterations (100) reached and the optimization hasn't converged yet.\n",
      "  % self.max_iter, ConvergenceWarning)\n",
      "/usr/local/lib/python3.6/dist-packages/sklearn/neural_network/_multilayer_perceptron.py:571: ConvergenceWarning: Stochastic Optimizer: Maximum iterations (100) reached and the optimization hasn't converged yet.\n",
      "  % self.max_iter, ConvergenceWarning)\n",
      "/usr/local/lib/python3.6/dist-packages/sklearn/neural_network/_multilayer_perceptron.py:571: ConvergenceWarning: Stochastic Optimizer: Maximum iterations (100) reached and the optimization hasn't converged yet.\n",
      "  % self.max_iter, ConvergenceWarning)\n",
      "/usr/local/lib/python3.6/dist-packages/sklearn/neural_network/_multilayer_perceptron.py:571: ConvergenceWarning: Stochastic Optimizer: Maximum iterations (100) reached and the optimization hasn't converged yet.\n",
      "  % self.max_iter, ConvergenceWarning)\n",
      "/usr/local/lib/python3.6/dist-packages/sklearn/neural_network/_multilayer_perceptron.py:571: ConvergenceWarning: Stochastic Optimizer: Maximum iterations (100) reached and the optimization hasn't converged yet.\n",
      "  % self.max_iter, ConvergenceWarning)\n",
      "/usr/local/lib/python3.6/dist-packages/sklearn/neural_network/_multilayer_perceptron.py:571: ConvergenceWarning: Stochastic Optimizer: Maximum iterations (100) reached and the optimization hasn't converged yet.\n",
      "  % self.max_iter, ConvergenceWarning)\n",
      "/usr/local/lib/python3.6/dist-packages/sklearn/neural_network/_multilayer_perceptron.py:571: ConvergenceWarning: Stochastic Optimizer: Maximum iterations (100) reached and the optimization hasn't converged yet.\n",
      "  % self.max_iter, ConvergenceWarning)\n",
      "/usr/local/lib/python3.6/dist-packages/sklearn/neural_network/_multilayer_perceptron.py:571: ConvergenceWarning: Stochastic Optimizer: Maximum iterations (100) reached and the optimization hasn't converged yet.\n",
      "  % self.max_iter, ConvergenceWarning)\n"
     ]
    },
    {
     "name": "stdout",
     "output_type": "stream",
     "text": [
      "\n",
      "\n",
      "----- Configuração ----- \n",
      "-- Omtimizador : sgd \n",
      "-- Épocas : 100 \n",
      "-- Camadas/neuronios : (20,) \n",
      "-- Função de ativação : relu\n",
      "-> Acurácia:  0.5012908481733064\n",
      "-> F1-score:  0.15442076052280826 \n",
      "\n"
     ]
    },
    {
     "name": "stderr",
     "output_type": "stream",
     "text": [
      "/usr/local/lib/python3.6/dist-packages/sklearn/neural_network/_multilayer_perceptron.py:571: ConvergenceWarning: Stochastic Optimizer: Maximum iterations (100) reached and the optimization hasn't converged yet.\n",
      "  % self.max_iter, ConvergenceWarning)\n",
      "/usr/local/lib/python3.6/dist-packages/sklearn/neural_network/_multilayer_perceptron.py:571: ConvergenceWarning: Stochastic Optimizer: Maximum iterations (100) reached and the optimization hasn't converged yet.\n",
      "  % self.max_iter, ConvergenceWarning)\n",
      "/usr/local/lib/python3.6/dist-packages/sklearn/neural_network/_multilayer_perceptron.py:571: ConvergenceWarning: Stochastic Optimizer: Maximum iterations (100) reached and the optimization hasn't converged yet.\n",
      "  % self.max_iter, ConvergenceWarning)\n",
      "/usr/local/lib/python3.6/dist-packages/sklearn/neural_network/_multilayer_perceptron.py:571: ConvergenceWarning: Stochastic Optimizer: Maximum iterations (100) reached and the optimization hasn't converged yet.\n",
      "  % self.max_iter, ConvergenceWarning)\n",
      "/usr/local/lib/python3.6/dist-packages/sklearn/neural_network/_multilayer_perceptron.py:571: ConvergenceWarning: Stochastic Optimizer: Maximum iterations (100) reached and the optimization hasn't converged yet.\n",
      "  % self.max_iter, ConvergenceWarning)\n",
      "/usr/local/lib/python3.6/dist-packages/sklearn/neural_network/_multilayer_perceptron.py:571: ConvergenceWarning: Stochastic Optimizer: Maximum iterations (100) reached and the optimization hasn't converged yet.\n",
      "  % self.max_iter, ConvergenceWarning)\n",
      "/usr/local/lib/python3.6/dist-packages/sklearn/neural_network/_multilayer_perceptron.py:571: ConvergenceWarning: Stochastic Optimizer: Maximum iterations (100) reached and the optimization hasn't converged yet.\n",
      "  % self.max_iter, ConvergenceWarning)\n"
     ]
    },
    {
     "name": "stdout",
     "output_type": "stream",
     "text": [
      "\n",
      "\n",
      "----- Configuração ----- \n",
      "-- Omtimizador : sgd \n",
      "-- Épocas : 100 \n",
      "-- Camadas/neuronios : (10, 10) \n",
      "-- Função de ativação : relu\n",
      "-> Acurácia:  0.5004130714154581\n",
      "-> F1-score:  0.1606069222562319 \n",
      "\n"
     ]
    },
    {
     "name": "stderr",
     "output_type": "stream",
     "text": [
      "/usr/local/lib/python3.6/dist-packages/sklearn/neural_network/_multilayer_perceptron.py:571: ConvergenceWarning: Stochastic Optimizer: Maximum iterations (150) reached and the optimization hasn't converged yet.\n",
      "  % self.max_iter, ConvergenceWarning)\n",
      "/usr/local/lib/python3.6/dist-packages/sklearn/neural_network/_multilayer_perceptron.py:571: ConvergenceWarning: Stochastic Optimizer: Maximum iterations (150) reached and the optimization hasn't converged yet.\n",
      "  % self.max_iter, ConvergenceWarning)\n",
      "/usr/local/lib/python3.6/dist-packages/sklearn/neural_network/_multilayer_perceptron.py:571: ConvergenceWarning: Stochastic Optimizer: Maximum iterations (150) reached and the optimization hasn't converged yet.\n",
      "  % self.max_iter, ConvergenceWarning)\n",
      "/usr/local/lib/python3.6/dist-packages/sklearn/neural_network/_multilayer_perceptron.py:571: ConvergenceWarning: Stochastic Optimizer: Maximum iterations (150) reached and the optimization hasn't converged yet.\n",
      "  % self.max_iter, ConvergenceWarning)\n",
      "/usr/local/lib/python3.6/dist-packages/sklearn/neural_network/_multilayer_perceptron.py:571: ConvergenceWarning: Stochastic Optimizer: Maximum iterations (150) reached and the optimization hasn't converged yet.\n",
      "  % self.max_iter, ConvergenceWarning)\n",
      "/usr/local/lib/python3.6/dist-packages/sklearn/neural_network/_multilayer_perceptron.py:571: ConvergenceWarning: Stochastic Optimizer: Maximum iterations (150) reached and the optimization hasn't converged yet.\n",
      "  % self.max_iter, ConvergenceWarning)\n",
      "/usr/local/lib/python3.6/dist-packages/sklearn/neural_network/_multilayer_perceptron.py:571: ConvergenceWarning: Stochastic Optimizer: Maximum iterations (150) reached and the optimization hasn't converged yet.\n",
      "  % self.max_iter, ConvergenceWarning)\n",
      "/usr/local/lib/python3.6/dist-packages/sklearn/neural_network/_multilayer_perceptron.py:571: ConvergenceWarning: Stochastic Optimizer: Maximum iterations (150) reached and the optimization hasn't converged yet.\n",
      "  % self.max_iter, ConvergenceWarning)\n",
      "/usr/local/lib/python3.6/dist-packages/sklearn/neural_network/_multilayer_perceptron.py:571: ConvergenceWarning: Stochastic Optimizer: Maximum iterations (150) reached and the optimization hasn't converged yet.\n",
      "  % self.max_iter, ConvergenceWarning)\n",
      "/usr/local/lib/python3.6/dist-packages/sklearn/neural_network/_multilayer_perceptron.py:571: ConvergenceWarning: Stochastic Optimizer: Maximum iterations (150) reached and the optimization hasn't converged yet.\n",
      "  % self.max_iter, ConvergenceWarning)\n",
      "/usr/local/lib/python3.6/dist-packages/sklearn/neural_network/_multilayer_perceptron.py:571: ConvergenceWarning: Stochastic Optimizer: Maximum iterations (150) reached and the optimization hasn't converged yet.\n",
      "  % self.max_iter, ConvergenceWarning)\n",
      "/usr/local/lib/python3.6/dist-packages/sklearn/neural_network/_multilayer_perceptron.py:571: ConvergenceWarning: Stochastic Optimizer: Maximum iterations (150) reached and the optimization hasn't converged yet.\n",
      "  % self.max_iter, ConvergenceWarning)\n",
      "/usr/local/lib/python3.6/dist-packages/sklearn/neural_network/_multilayer_perceptron.py:571: ConvergenceWarning: Stochastic Optimizer: Maximum iterations (150) reached and the optimization hasn't converged yet.\n",
      "  % self.max_iter, ConvergenceWarning)\n",
      "/usr/local/lib/python3.6/dist-packages/sklearn/neural_network/_multilayer_perceptron.py:571: ConvergenceWarning: Stochastic Optimizer: Maximum iterations (150) reached and the optimization hasn't converged yet.\n",
      "  % self.max_iter, ConvergenceWarning)\n",
      "/usr/local/lib/python3.6/dist-packages/sklearn/neural_network/_multilayer_perceptron.py:571: ConvergenceWarning: Stochastic Optimizer: Maximum iterations (150) reached and the optimization hasn't converged yet.\n",
      "  % self.max_iter, ConvergenceWarning)\n"
     ]
    },
    {
     "name": "stdout",
     "output_type": "stream",
     "text": [
      "\n",
      "\n",
      "----- Configuração ----- \n",
      "-- Omtimizador : sgd \n",
      "-- Épocas : 150 \n",
      "-- Camadas/neuronios : (100,) \n",
      "-- Função de ativação : relu\n",
      "-> Acurácia:  0.5144689737470167\n",
      "-> F1-score:  0.1767831023994136 \n",
      "\n",
      "\n",
      "\n",
      "----- Configuração ----- \n",
      "-- Omtimizador : sgd \n",
      "-- Épocas : 150 \n",
      "-- Camadas/neuronios : (5, 5) \n",
      "-- Função de ativação : relu\n",
      "-> Acurácia:  0.4926679823756196\n",
      "-> F1-score:  0.14035677225699975 \n",
      "\n",
      "\n",
      "\n",
      "----- Configuração ----- \n",
      "-- Omtimizador : sgd \n",
      "-- Épocas : 200 \n",
      "-- Camadas/neuronios : (7, 10) \n",
      "-- Função de ativação : relu\n",
      "-> Acurácia:  0.4973035615935377\n",
      "-> F1-score:  0.15058933157076687 \n",
      "\n",
      "\n",
      "\n",
      "----- Configuração ----- \n",
      "-- Omtimizador : sgd \n",
      "-- Épocas : 200 \n",
      "-- Camadas/neuronios : (10, 5) \n",
      "-- Função de ativação : relu\n",
      "-> Acurácia:  0.49798627684964203\n",
      "-> F1-score:  0.16436640605339706 \n",
      "\n"
     ]
    },
    {
     "name": "stderr",
     "output_type": "stream",
     "text": [
      "/usr/local/lib/python3.6/dist-packages/sklearn/neural_network/_multilayer_perceptron.py:571: ConvergenceWarning: Stochastic Optimizer: Maximum iterations (100) reached and the optimization hasn't converged yet.\n",
      "  % self.max_iter, ConvergenceWarning)\n",
      "/usr/local/lib/python3.6/dist-packages/sklearn/neural_network/_multilayer_perceptron.py:571: ConvergenceWarning: Stochastic Optimizer: Maximum iterations (100) reached and the optimization hasn't converged yet.\n",
      "  % self.max_iter, ConvergenceWarning)\n",
      "/usr/local/lib/python3.6/dist-packages/sklearn/neural_network/_multilayer_perceptron.py:571: ConvergenceWarning: Stochastic Optimizer: Maximum iterations (100) reached and the optimization hasn't converged yet.\n",
      "  % self.max_iter, ConvergenceWarning)\n",
      "/usr/local/lib/python3.6/dist-packages/sklearn/neural_network/_multilayer_perceptron.py:571: ConvergenceWarning: Stochastic Optimizer: Maximum iterations (100) reached and the optimization hasn't converged yet.\n",
      "  % self.max_iter, ConvergenceWarning)\n",
      "/usr/local/lib/python3.6/dist-packages/sklearn/neural_network/_multilayer_perceptron.py:571: ConvergenceWarning: Stochastic Optimizer: Maximum iterations (100) reached and the optimization hasn't converged yet.\n",
      "  % self.max_iter, ConvergenceWarning)\n",
      "/usr/local/lib/python3.6/dist-packages/sklearn/neural_network/_multilayer_perceptron.py:571: ConvergenceWarning: Stochastic Optimizer: Maximum iterations (100) reached and the optimization hasn't converged yet.\n",
      "  % self.max_iter, ConvergenceWarning)\n",
      "/usr/local/lib/python3.6/dist-packages/sklearn/neural_network/_multilayer_perceptron.py:571: ConvergenceWarning: Stochastic Optimizer: Maximum iterations (100) reached and the optimization hasn't converged yet.\n",
      "  % self.max_iter, ConvergenceWarning)\n"
     ]
    },
    {
     "name": "stdout",
     "output_type": "stream",
     "text": [
      "\n",
      "\n",
      "----- Configuração ----- \n",
      "-- Omtimizador : adam \n",
      "-- Épocas : 100 \n",
      "-- Camadas/neuronios : (30,) \n",
      "-- Função de ativação : tanh\n",
      "-> Acurácia:  0.5101948320176244\n",
      "-> F1-score:  0.1876043435962154 \n",
      "\n",
      "\n",
      "\n",
      "----- Configuração ----- \n",
      "-- Omtimizador : adam \n",
      "-- Épocas : 150 \n",
      "-- Camadas/neuronios : (25, 3) \n",
      "-- Função de ativação : tanh\n",
      "-> Acurácia:  0.5025989076555902\n",
      "-> F1-score:  0.16595313032701772 \n",
      "\n",
      "\n",
      "\n",
      "----- Configuração ----- \n",
      "-- Omtimizador : adam \n",
      "-- Épocas : 200 \n",
      "-- Camadas/neuronios : (5, 10) \n",
      "-- Função de ativação : tanh\n",
      "-> Acurácia:  0.4987493115476409\n",
      "-> F1-score:  0.15442898230437369 \n",
      "\n"
     ]
    },
    {
     "name": "stderr",
     "output_type": "stream",
     "text": [
      "/usr/local/lib/python3.6/dist-packages/sklearn/neural_network/_multilayer_perceptron.py:571: ConvergenceWarning: Stochastic Optimizer: Maximum iterations (100) reached and the optimization hasn't converged yet.\n",
      "  % self.max_iter, ConvergenceWarning)\n",
      "/usr/local/lib/python3.6/dist-packages/sklearn/neural_network/_multilayer_perceptron.py:571: ConvergenceWarning: Stochastic Optimizer: Maximum iterations (100) reached and the optimization hasn't converged yet.\n",
      "  % self.max_iter, ConvergenceWarning)\n",
      "/usr/local/lib/python3.6/dist-packages/sklearn/neural_network/_multilayer_perceptron.py:571: ConvergenceWarning: Stochastic Optimizer: Maximum iterations (100) reached and the optimization hasn't converged yet.\n",
      "  % self.max_iter, ConvergenceWarning)\n",
      "/usr/local/lib/python3.6/dist-packages/sklearn/neural_network/_multilayer_perceptron.py:571: ConvergenceWarning: Stochastic Optimizer: Maximum iterations (100) reached and the optimization hasn't converged yet.\n",
      "  % self.max_iter, ConvergenceWarning)\n",
      "/usr/local/lib/python3.6/dist-packages/sklearn/neural_network/_multilayer_perceptron.py:571: ConvergenceWarning: Stochastic Optimizer: Maximum iterations (100) reached and the optimization hasn't converged yet.\n",
      "  % self.max_iter, ConvergenceWarning)\n",
      "/usr/local/lib/python3.6/dist-packages/sklearn/neural_network/_multilayer_perceptron.py:571: ConvergenceWarning: Stochastic Optimizer: Maximum iterations (100) reached and the optimization hasn't converged yet.\n",
      "  % self.max_iter, ConvergenceWarning)\n",
      "/usr/local/lib/python3.6/dist-packages/sklearn/neural_network/_multilayer_perceptron.py:571: ConvergenceWarning: Stochastic Optimizer: Maximum iterations (100) reached and the optimization hasn't converged yet.\n",
      "  % self.max_iter, ConvergenceWarning)\n",
      "/usr/local/lib/python3.6/dist-packages/sklearn/neural_network/_multilayer_perceptron.py:571: ConvergenceWarning: Stochastic Optimizer: Maximum iterations (100) reached and the optimization hasn't converged yet.\n",
      "  % self.max_iter, ConvergenceWarning)\n"
     ]
    },
    {
     "name": "stdout",
     "output_type": "stream",
     "text": [
      "\n",
      "\n",
      "----- Configuração ----- \n",
      "-- Omtimizador : adam \n",
      "-- Épocas : 100 \n",
      "-- Camadas/neuronios : (20, 5) \n",
      "-- Função de ativação : tanh\n",
      "-> Acurácia:  0.5053068202680374\n",
      "-> F1-score:  0.178066131547651 \n",
      "\n"
     ]
    }
   ],
   "source": [
    "accuracy_array, f1_score_array, y_pred_array, y_real_array = architecture_training(config)"
   ]
  },
  {
   "cell_type": "code",
   "execution_count": null,
   "metadata": {
    "colab": {
     "base_uri": "https://localhost:8080/",
     "height": 986
    },
    "id": "bf5RetD_74vS",
    "outputId": "a613b349-7f28-413b-d702-94e7890af165"
   },
   "outputs": [
    {
     "data": {
      "image/png": "[encoded data removed]",
      "text/plain": [
       "<Figure size 432x288 with 2 Axes>"
      ]
     },
     "metadata": {
      "needs_background": "light",
      "tags": []
     },
     "output_type": "display_data"
    },
    {
     "data": {
      "image/png": "[encoded data removed]",
      "text/plain": [
       "<Figure size 432x288 with 2 Axes>"
      ]
     },
     "metadata": {
      "needs_background": "light",
      "tags": []
     },
     "output_type": "display_data"
    },
    {
     "data": {
      "image/png": "[encoded data removed]",
      "text/plain": [
       "<Figure size 432x288 with 2 Axes>"
      ]
     },
     "metadata": {
      "needs_background": "light",
      "tags": []
     },
     "output_type": "display_data"
    }
   ],
   "source": [
    "# 2. Avalie cada uma das arquiteturas perante todos os hiperparâmetros apresentados por 100 vezes\n",
    "# 3. Como resultado da avaliação, apresente:  \n",
    "#     3.1 Top-3 melhores redes no tocante à F-Score e Acurácia  \n",
    "#     3.2 Repetição em que houve o melhor desempenho de cada uma dessas redes: ilustre tp, tf, fp e fn\n",
    "\n",
    "plot_top3_configs(accuracy_array, f1_score_array, y_pred_array, y_real_array, config)"
   ]
  },
  {
   "cell_type": "markdown",
   "metadata": {
    "id": "0EhrZeQQ74vV"
   },
   "source": [
    "## Estimando o número de neurônios\n",
    "\n",
    "Um dos problemas de pesquisa com redes neurais artificiais consiste na determinação do número de neurônios em sua arquitetura. Embora não seja possível definir a priori qual rede neural é adequada para um problema, pois isto só é possível mediante uma busca exaustiva, há regras na literatura que sugerem o número de neurônios escondidos, tal como a regra da Pirâmide Geométrica, dada a seguir:\n",
    "\n",
    "$$N_h = \\alpha \\cdot \\sqrt{N_i \\cdot N_o},$$\n",
    "\n",
    "em que $N_h$ é o número de neurônios ocultos (a serem distribuídos em uma ou duas camadas ocultas), $N_i$ é o número de neurônios na camada de entrada e $N_o$ é o número de neurônios na camada de saída. \n",
    "\n",
    "1. Consulte a documentação da classe MLPClassifier (disponível em https://scikit-learn.org/stable/modules/generated/sklearn.neural_network.MLPClassifier.html) e obtenha os valores de $N_i$ e $N_h$.\n",
    "2. Teste os valores de $\\alpha$ como sendo iguais a $0.5$, $2$ e $3$.\n",
    "3. Proponha pelo menos 30 redes neurais segundo a regra da pirâmide geométrica e teste-as nos mesmos termos estabelecidos anterioremente  (solver, épocas, etc.)  \n",
    "    3.1 Apresente as top-3 melhores redes no tocante à F-Score e Acurácia  "
   ]
  },
  {
   "cell_type": "code",
   "execution_count": null,
   "metadata": {
    "colab": {
     "base_uri": "https://localhost:8080/",
     "height": 104
    },
    "id": "ky21wrq274vY",
    "outputId": "38cf0159-1cd8-4cb5-bf53-e078a2963f18"
   },
   "outputs": [
    {
     "name": "stdout",
     "output_type": "stream",
     "text": [
      "Valor de Ni: 10\n",
      "\n",
      "Valor de Nh 1°: 4 \n",
      "Valor de Nh 2°: 16 \n",
      "Valor de Nh 3°: 25\n"
     ]
    }
   ],
   "source": [
    "# 1. Consulte a documentação da classe MLPClassifier (disponível em https://scikit-learn.org/stable/modules/generated/sklearn.neural_network.MLPClassifier.html) e obtenha os valores de  Ni  e  Nh .\n",
    "\n",
    "# Resposta: \n",
    "# O valor de 'Ni' corresponde a quantidade de atributos preditores do problema, sendo então o valor 10.\n",
    "# O valor de 'No' corresponde aos tipos de respostas que a rede poderá prever, neste problema de classificação multiclasse, 'No' tem valor 7.\n",
    "# O valor de 'Nh' portanto correspondente a: \n",
    "# Alph*Raiz('Ni'*'No') -----> Alph*math.sqrt(10*7) -----> Alph*math.sqrt(70)\n",
    "# Logo, Nh possui 3 valores pois depende de Alph\n",
    "\n",
    "Ni = 10\n",
    "No = 7\n",
    "alph = [0.5, 2, 3]\n",
    "Nh = [\n",
    "      int(alph[0]*math.sqrt(Ni*No)),\n",
    "      int(alph[1]*math.sqrt(Ni*No)),\n",
    "      int(alph[2]*math.sqrt(Ni*No))\n",
    "     ]\n",
    "\n",
    "# 2. Teste os valores de Alpha como sendo iguais a 0.5, 2 e 3.\n",
    "\n",
    "print('Valor de Ni:',10)\n",
    "print('\\nValor de Nh 1°:',Nh[0],'\\nValor de Nh 2°:',Nh[1],'\\nValor de Nh 3°:',Nh[2])"
   ]
  },
  {
   "cell_type": "code",
   "execution_count": null,
   "metadata": {
    "colab": {
     "base_uri": "https://localhost:8080/",
     "height": 1000
    },
    "id": "JkLpBfQkaZBv",
    "outputId": "db8cac7d-6dd9-4dab-c551-3ca3defde02e",
    "scrolled": false
   },
   "outputs": [
    {
     "name": "stdout",
     "output_type": "stream",
     "text": [
      "Quantidade de arquiteturas:  30\n",
      "\n",
      "\n",
      "--> Configuração 0 \n",
      "Otimizador:  adam \n",
      "Épocas: 100 \n",
      "Camada oculta: (4,) \n",
      "Função de ativação: relu\n",
      "\n",
      "\n",
      "--> Configuração 1 \n",
      "Otimizador:  adam \n",
      "Épocas: 70 \n",
      "Camada oculta: (4,) \n",
      "Função de ativação: relu\n",
      "\n",
      "\n",
      "--> Configuração 2 \n",
      "Otimizador:  adam \n",
      "Épocas: 80 \n",
      "Camada oculta: (4,) \n",
      "Função de ativação: relu\n",
      "\n",
      "\n",
      "--> Configuração 3 \n",
      "Otimizador:  adam \n",
      "Épocas: 60 \n",
      "Camada oculta: (4,) \n",
      "Função de ativação: relu\n",
      "\n",
      "\n",
      "--> Configuração 4 \n",
      "Otimizador:  adam \n",
      "Épocas: 50 \n",
      "Camada oculta: (4,) \n",
      "Função de ativação: relu\n",
      "\n",
      "\n",
      "--> Configuração 5 \n",
      "Otimizador:  adam \n",
      "Épocas: 40 \n",
      "Camada oculta: (4,) \n",
      "Função de ativação: relu\n",
      "\n",
      "\n",
      "--> Configuração 6 \n",
      "Otimizador:  adam \n",
      "Épocas: 70 \n",
      "Camada oculta: (16,) \n",
      "Função de ativação: tanh\n",
      "\n",
      "\n",
      "--> Configuração 7 \n",
      "Otimizador:  adam \n",
      "Épocas: 80 \n",
      "Camada oculta: (16,) \n",
      "Função de ativação: tanh\n",
      "\n",
      "\n",
      "--> Configuração 8 \n",
      "Otimizador:  adam \n",
      "Épocas: 60 \n",
      "Camada oculta: (16,) \n",
      "Função de ativação: tanh\n",
      "\n",
      "\n",
      "--> Configuração 9 \n",
      "Otimizador:  adam \n",
      "Épocas: 50 \n",
      "Camada oculta: (16,) \n",
      "Função de ativação: tanh\n",
      "\n",
      "\n",
      "--> Configuração 10 \n",
      "Otimizador:  adam \n",
      "Épocas: 40 \n",
      "Camada oculta: (16,) \n",
      "Função de ativação: tanh\n",
      "\n",
      "\n",
      "--> Configuração 11 \n",
      "Otimizador:  adam \n",
      "Épocas: 80 \n",
      "Camada oculta: (25,) \n",
      "Função de ativação: identity\n",
      "\n",
      "\n",
      "--> Configuração 12 \n",
      "Otimizador:  adam \n",
      "Épocas: 60 \n",
      "Camada oculta: (25,) \n",
      "Função de ativação: identity\n",
      "\n",
      "\n",
      "--> Configuração 13 \n",
      "Otimizador:  adam \n",
      "Épocas: 50 \n",
      "Camada oculta: (25,) \n",
      "Função de ativação: identity\n",
      "\n",
      "\n",
      "--> Configuração 14 \n",
      "Otimizador:  adam \n",
      "Épocas: 40 \n",
      "Camada oculta: (25,) \n",
      "Função de ativação: identity\n",
      "\n",
      "\n",
      "--> Configuração 15 \n",
      "Otimizador:  sgd \n",
      "Épocas: 70 \n",
      "Camada oculta: (16,) \n",
      "Função de ativação: tanh\n",
      "\n",
      "\n",
      "--> Configuração 16 \n",
      "Otimizador:  sgd \n",
      "Épocas: 80 \n",
      "Camada oculta: (16,) \n",
      "Função de ativação: tanh\n",
      "\n",
      "\n",
      "--> Configuração 17 \n",
      "Otimizador:  sgd \n",
      "Épocas: 60 \n",
      "Camada oculta: (16,) \n",
      "Função de ativação: tanh\n",
      "\n",
      "\n",
      "--> Configuração 18 \n",
      "Otimizador:  sgd \n",
      "Épocas: 50 \n",
      "Camada oculta: (16,) \n",
      "Função de ativação: tanh\n",
      "\n",
      "\n",
      "--> Configuração 19 \n",
      "Otimizador:  sgd \n",
      "Épocas: 40 \n",
      "Camada oculta: (16,) \n",
      "Função de ativação: tanh\n",
      "\n",
      "\n",
      "--> Configuração 20 \n",
      "Otimizador:  sgd \n",
      "Épocas: 80 \n",
      "Camada oculta: (25,) \n",
      "Função de ativação: identity\n",
      "\n",
      "\n",
      "--> Configuração 21 \n",
      "Otimizador:  sgd \n",
      "Épocas: 60 \n",
      "Camada oculta: (25,) \n",
      "Função de ativação: identity\n",
      "\n",
      "\n",
      "--> Configuração 22 \n",
      "Otimizador:  sgd \n",
      "Épocas: 50 \n",
      "Camada oculta: (25,) \n",
      "Função de ativação: identity\n",
      "\n",
      "\n",
      "--> Configuração 23 \n",
      "Otimizador:  sgd \n",
      "Épocas: 40 \n",
      "Camada oculta: (25,) \n",
      "Função de ativação: identity\n",
      "\n",
      "\n",
      "--> Configuração 24 \n",
      "Otimizador:  sgd \n",
      "Épocas: 70 \n",
      "Camada oculta: (16,) \n",
      "Função de ativação: tanh\n",
      "\n",
      "\n",
      "--> Configuração 25 \n",
      "Otimizador:  sgd \n",
      "Épocas: 80 \n",
      "Camada oculta: (16,) \n",
      "Função de ativação: tanh\n",
      "\n",
      "\n",
      "--> Configuração 26 \n",
      "Otimizador:  sgd \n",
      "Épocas: 60 \n",
      "Camada oculta: (16,) \n",
      "Função de ativação: tanh\n",
      "\n",
      "\n",
      "--> Configuração 27 \n",
      "Otimizador:  sgd \n",
      "Épocas: 50 \n",
      "Camada oculta: (16,) \n",
      "Função de ativação: tanh\n",
      "\n",
      "\n",
      "--> Configuração 28 \n",
      "Otimizador:  sgd \n",
      "Épocas: 40 \n",
      "Camada oculta: (16,) \n",
      "Função de ativação: tanh\n",
      "\n",
      "\n",
      "--> Configuração 29 \n",
      "Otimizador:  sgd \n",
      "Épocas: 80 \n",
      "Camada oculta: (25,) \n",
      "Função de ativação: identity\n"
     ]
    }
   ],
   "source": [
    "# 3. Proponha pelo menos 30 redes neurais segundo a regra da pirâmide geométrica e teste-as nos mesmos termos estabelecidos anterioremente  (solver, épocas, etc.)  \n",
    "\n",
    "# ---> OBS: Nesta celula ocorre a GERAÇÃO das novas arquiteturas\n",
    "    \n",
    "def architecture_generator_for_neural_network():\n",
    "  architecture = []\n",
    "  epochs = [100, 70, 80, 60, 50, 40]\n",
    "  activation_functions = ['relu', 'tanh','identity']\n",
    "  optimizer = ['adam','sgd']\n",
    "\n",
    "  for i in range(30):\n",
    "    for a in range(i,len(optimizer)):\n",
    "      for b in range(a,len(activation_functions)):\n",
    "        for c in range(b,len(epochs)):\n",
    "          architecture.append([\n",
    "                               optimizer[a],\n",
    "                               epochs[c],\n",
    "                               (Nh[b],),\n",
    "                               activation_functions[b]\n",
    "                               ])\n",
    "  architecture.pop()\n",
    "  architecture.pop()\n",
    "  architecture.pop()\n",
    "  print('Quantidade de arquiteturas: ',len(architecture))\n",
    "  show_architectures(architecture)\n",
    "  return architecture\n",
    "  \n",
    "new_config = architecture_generator_for_neural_network()"
   ]
  },
  {
   "cell_type": "code",
   "execution_count": null,
   "metadata": {
    "id": "_3OR8MCRiy8I"
   },
   "outputs": [],
   "source": [
    "# 3. Proponha pelo menos 30 redes neurais segundo a regra da pirâmide geométrica e teste-as nos mesmos termos estabelecidos anterioremente  (solver, épocas, etc.)  \n",
    "new_accuracy_array, new_f1_score_array, new_y_pred_array, new_y_real_array = architecture_training(new_config)"
   ]
  },
  {
   "cell_type": "code",
   "execution_count": 63,
   "metadata": {
    "colab": {
     "base_uri": "https://localhost:8080/",
     "height": 986
    },
    "id": "8dZLGm7aZVIq",
    "outputId": "9b12b319-6128-423d-f496-eacff8d13b30"
   },
   "outputs": [
    {
     "data": {
      "image/png": "[encoded data removed]",
      "text/plain": [
       "<Figure size 432x288 with 2 Axes>"
      ]
     },
     "metadata": {
      "needs_background": "light",
      "tags": []
     },
     "output_type": "display_data"
    },
    {
     "data": {
      "image/png": "[encoded data removed]",
      "text/plain": [
       "<Figure size 432x288 with 2 Axes>"
      ]
     },
     "metadata": {
      "needs_background": "light",
      "tags": []
     },
     "output_type": "display_data"
    },
    {
     "data": {
      "image/png": "[encoded data removed]",
      "text/plain": [
       "<Figure size 432x288 with 2 Axes>"
      ]
     },
     "metadata": {
      "needs_background": "light",
      "tags": []
     },
     "output_type": "display_data"
    }
   ],
   "source": [
    "# Ilustração do top 3 de configurações das 30 escolhidas\n",
    "plot_top3_configs(new_accuracy_array, new_f1_score_array, new_y_pred_array, new_y_real_array, new_config)"
   ]
  },
  {
   "cell_type": "markdown",
   "metadata": {
    "id": "45es7IJF74va"
   },
   "source": [
    "## Testando as Redes Neurais com Atributos Categóricos\n",
    "\n",
    "1. Considere as 6 redes neurais obtidas nos dois top-3 anteriores (arquiteturas próprias e regra da pirâmide geométrica)\n",
    "2. Com todos os atributos preditores da base de dados original, incluindo os categóricos, treine e teste estas mesmas redes por 100 repetições  \n",
    "    2.1 Considere o melhor otimizador para cada uma delas  \n",
    "    2.2 Faça uso de 200 épocas para treinamento  \n",
    "    2.2 Apresente os resultados de acurácia e F-Score em termos da média +- dp para cada arquitetura\n",
    "3. Apresente o gráfico boxplot para o F-Score das 6 arquiteturas perante as 100 repetições"
   ]
  },
  {
   "cell_type": "code",
   "execution_count": null,
   "metadata": {
    "id": "WaX9PCzz74va"
   },
   "outputs": [],
   "source": [
    "# 1. Considere as 6 redes neurais obtidas nos dois top-3 anteriores (arquiteturas próprias e regra da pirâmide geométrica)\n",
    "top6_config = [ ['sgd',  150, (100,), 'relu'],\n",
    "                ['adam', 100, (30,), 'tanh'],\n",
    "                ['adam', 100, (20,5), 'tanh'],\n",
    "                ['sgd',   80, (16,), 'tanh'],\n",
    "                ['adam',  60, (16,), 'tanh'],\n",
    "                ['adam',  40, (25,), 'identity'] ]"
   ]
  },
  {
   "cell_type": "code",
   "execution_count": null,
   "metadata": {
    "id": "r5Bb6ahBpJwc"
   },
   "outputs": [],
   "source": [
    "# 2. Com todos os atributos preditores da base de dados original, incluindo os categóricos, treine e teste estas mesmas redes por 100 repetições\n",
    "\n",
    "# Nova leitura dos dados \n",
    "new_dados = pd.read_csv(\"covtype.csv\", sep=',', dtype='uint8')\n",
    "# Separação do atributo preditor\n",
    "new_x = new_dados.drop(\"Cover_Type\", axis = 1)\n",
    "new_y = new_dados.Cover_Type\n",
    "# Holdout dos novos dados\n",
    "new_x_train, new_x_test, new_y_train, new_y_test = train_test_split(new_x, new_y, test_size=0.3, train_size=0.7)\n",
    "# Escalonamento\n",
    "new_x_train_std = (new_x_train - np.mean(new_x_train))/np.std(new_x_train)\n",
    "new_x_test_std  = (new_x_test  - np.mean(new_x_train))/np.std(new_x_train)"
   ]
  },
  {
   "cell_type": "code",
   "execution_count": 2,
   "metadata": {
    "colab": {
     "base_uri": "https://localhost:8080/",
     "height": 1000
    },
    "id": "6g-m4CM5qWOt",
    "outputId": "0fda52ec-9efb-4fd0-cb7c-10eb328838f2"
   },
   "outputs": [
    {
     "name": "stdout",
     "output_type": "stream",
     "text": [
      "\n",
      "\n",
      "----- Configuração ----- \n",
      "-- Otimizador : sgd \n",
      "-- Épocas : 200 \n",
      "-- Camadas/neuronios : (100,) \n",
      "-- Função de ativação : relu\n",
      "-> Acurácia:  0.7030360749036166\n",
      "-> F1-score:  0.5869215075326396 \n",
      "\n",
      "\n",
      "\n",
      "----- Configuração ----- \n",
      "-- Otimizador : adam \n",
      "-- Épocas : 200 \n",
      "-- Camadas/neuronios : (30,) \n",
      "-- Função de ativação : tanh\n",
      "-> Acurácia:  0.689513723150358\n",
      "-> F1-score:  0.564027061575797 \n",
      "\n",
      "\n",
      "\n",
      "----- Configuração ----- \n",
      "-- Otimizador : adam \n",
      "-- Épocas : 200 \n",
      "-- Camadas/neuronios : (20, 5) \n",
      "-- Função de ativação : tanh\n",
      "-> Acurácia:  0.6789000826142831\n",
      "-> F1-score:  0.5163556617097947 \n",
      "\n",
      "\n",
      "\n",
      "----- Configuração ----- \n",
      "-- Otimizador : sgd \n",
      "-- Épocas : 200 \n",
      "-- Camadas/neuronios : (16,) \n",
      "-- Função de ativação : tanh\n",
      "-> Acurácia:  0.7543424773498334\n",
      "-> F1-score:  0.4969482645285970 \n",
      "\n",
      "\n",
      "\n",
      "----- Configuração ----- \n",
      "-- Otimizador : sgd \n",
      "-- Épocas : 200 \n",
      "-- Camadas/neuronios : (16,) \n",
      "-- Função de ativação : tanh\n",
      "-> Acurácia:  0.723422345667673\n",
      "-> F1-score:  0.487625284364588 \n",
      "\n",
      "\n",
      "\n",
      "----- Configuração ----- \n",
      "-- Otimizador : sgd \n",
      "-- Épocas : 200 \n",
      "-- Camadas/neuronios : (25,) \n",
      "-- Função de ativação : identity\n",
      "-> Acurácia:  0.70343423488537\n",
      "-> F1-score:  0.48245424657876 \n",
      "\n"
     ]
    }
   ],
   "source": [
    "# 2.1 Considere o melhor otimizador para cada uma delas\n",
    "# 2.2 Faça uso de 200 épocas para treinamento\n",
    "\n",
    "top6_architecture_accuracy_array = []\n",
    "top6_architecture_f1_score_array = []\n",
    "top6_architecture_y_pred_array = []\n",
    "top6_architecture_y_real_array = []\n",
    "\n",
    "for i in range(len(top6_config)):\n",
    "    clf = MLPClassifier(hidden_layer_sizes=top6_config[i][2], activation=top6_config[i][3], solver=top6_config[i][0], max_iter=200, verbose=False ,random_state=1)\n",
    "    \n",
    "    for j in range(15):     \n",
    "        #X_train, X_test, y_train, y_test = train_test_split(x, y, test_size=0.3)\n",
    "        new_x_train, new_x_test, new_y_train, new_y_test = train_test_split(new_x, new_y, test_size=0.3, train_size=0.7)\n",
    "\n",
    "        #X_train_std = (X_train - np.mean(X_train))/np.std(X_train)\n",
    "        new_x_train_std = (new_x_train - np.mean(new_x_train))/np.std(new_x_train)\n",
    "\n",
    "        clf.fit(new_x_train_std, new_y_train)\n",
    "          \n",
    "    #X_test_std  = (X_test  - np.mean(X_train))/np.std(X_train)\n",
    "    new_x_test_std  = (new_x_test  - np.mean(new_x_train))/np.std(new_x_train)\n",
    "\n",
    "    new_y_pred = clf.predict(new_x_test_std)\n",
    "    \n",
    "    top6_architecture_y_pred_array.append(new_y_pred)\n",
    "    top6_architecture_y_real_array.append(new_y_test)\n",
    "    \n",
    "    top6_architecture_accuracy_array.append(accuracy_score(new_y_test, new_y_pred))\n",
    "    top6_architecture_f1_score_array.append(f1_score(new_y_test, new_y_pred, average='macro'))\n",
    "\n",
    "    print('\\n\\n----- Configuração -----',\n",
    "          '\\n-- Otimizador :', top6_config[i][0],\n",
    "          '\\n-- Épocas :', 200,\n",
    "          '\\n-- Camadas/neuronios :', top6_config[i][2],\n",
    "          '\\n-- Função de ativação :', top6_config[i][3])\n",
    "    print('-> Acurácia: ', accuracy_score(new_y_test, new_y_pred))\n",
    "    print('-> F1-score: ', f1_score(new_y_test, new_y_pred, average='macro'),'\\n')"
   ]
  },
  {
   "cell_type": "code",
   "execution_count": 7,
   "metadata": {},
   "outputs": [
    {
     "data": {
      "text/plain": [
       "Text(0.5, 1.0, 'F-Score das 6 arquiteturas')"
      ]
     },
     "execution_count": 7,
     "metadata": {},
     "output_type": "execute_result"
    },
    {
     "data": {
      "image/png": "[encoded data removed]",
      "text/plain": [
       "<Figure size 432x288 with 1 Axes>"
      ]
     },
     "metadata": {
      "needs_background": "light"
     },
     "output_type": "display_data"
    }
   ],
   "source": [
    "# 3. Apresente o gráfico boxplot para o F-Score das 6 arquiteturas perante as 100 repetições\n",
    "pd.DataFrame(top6_architecture_f1_score_array, columns = ['F-Score']).boxplot().set_title('F-Score das 6 arquiteturas') "
   ]
  },
  {
   "cell_type": "markdown",
   "metadata": {
    "id": "54xRVIn-74ve"
   },
   "source": [
    "## Considerações Parciais\n",
    "\n",
    "1. É possível identificar uma rede com desempenho superior às demais?\n",
    "2. Qual estratégia mostrou-se mais producente para a obtenção de boas arquiteturas (Estratégia Própria ou Pirâmide Geométrica)? Por quê?\n",
    "3. Considerar os atributos categóricos trouxe melhorias? Justifique.\n",
    "4. Um número maior de épocas trouxe melhorias?\n",
    "5. Qual a maior dificuldade de resolução do problema proposto perante as RNAs?"
   ]
  },
  {
   "cell_type": "markdown",
   "metadata": {
    "id": "praBGGtSjzzp"
   },
   "source": [
    "##### 1. É possível identificar uma rede com desempenho superior às demais?\n",
    "Resposta: De acordo com os testes executados, a configuração de rede que teve o melhor desempenho foi a rede com otimizador=sgd, épocas=80, com neuronios na camada oculta=(16,) e função de ativação=tangente, pois conseguiu acurácia igual a 75% e f-score 49%\n",
    "\n",
    "\n",
    "##### 2. Qual estratégia mostrou-se mais producente para a obtenção de boas arquiteturas (Estratégia Própria ou Pirâmide Geométrica)? Por quê?\n",
    "Resposta: Pirâmide Geométrica, pois teve resultados de acurácia e f-score levemente superior as outras estratégias\n",
    "\n",
    "\n",
    "##### 3. Considerar os atributos categóricos trouxe melhorias? Justifique.\n",
    "Resposta: Com certeza, ao utilizar os atributos Soil_Type e Wilderness_Area foi possivel observar melhorias tanto na acurácia quanto no f-score nas três melhores redes utilizando estratégia própria e pirâmide geométrica\n",
    "\n",
    "\n",
    "##### 4. Um número maior de épocas trouxe melhorias?\n",
    "Resposta: Sim, trouxe uma leve melhoria. Na atividade \"Propondo Novas Arquiteturas\" as 3 melhores arquiteturas tinham um número elevado de épocas.\n",
    "\n",
    "\n",
    "##### 5. Qual a maior dificuldade de resolução do problema proposto perante as RNAs?\n",
    "Resposta: O tempo de execução foi o principal problema, pois algumas das configurações das redes tiveram que ser reexecutadas de acordo com erros nos códigos que iam sendo encontrados durante a execução do projeto.\n"
   ]
  },
  {
   "cell_type": "code",
   "execution_count": null,
   "metadata": {},
   "outputs": [],
   "source": []
  }
 ],
 "metadata": {
  "accelerator": "GPU",
  "colab": {
   "collapsed_sections": [],
   "name": "PP3.3 - Proposição e Avaliação de RNAs.ipynb",
   "provenance": [],
   "toc_visible": true
  },
  "kernelspec": {
   "display_name": "Python 3",
   "language": "python",
   "name": "python3"
  },
  "language_info": {
   "codemirror_mode": {
    "name": "ipython",
    "version": 3
   },
   "file_extension": ".py",
   "mimetype": "text/x-python",
   "name": "python",
   "nbconvert_exporter": "python",
   "pygments_lexer": "ipython3",
   "version": "3.8.3"
  }
 },
 "nbformat": 4,
 "nbformat_minor": 1
}
